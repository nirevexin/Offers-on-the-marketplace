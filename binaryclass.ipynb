{
 "cells": [
  {
   "cell_type": "markdown",
   "id": "bf0c0989",
   "metadata": {},
   "source": [
    "## Importing the necessary libraries"
   ]
  },
  {
   "cell_type": "code",
   "execution_count": 1,
   "id": "05e43396",
   "metadata": {},
   "outputs": [],
   "source": [
    "{\n",
    "    \"tags\": [\n",
    "        \"hide-input\",\n",
    "    ]\n",
    "}\n",
    "\n",
    "import torch\n",
    "import torch.nn as nn\n",
    "import torch.nn.functional as F\n",
    "import torch.optim as optim\n",
    "import torchvision\n",
    "import torchvision.transforms as transforms\n",
    "from torch.utils.data import DataLoader, Dataset\n",
    "\n",
    "import matplotlib.pyplot as plt\n",
    "import matplotlib.ticker as mtick\n",
    "from matplotlib.cbook import boxplot_stats\n",
    "\n",
    "#!pip install seaborn\n",
    "import seaborn as sns\n",
    "\n",
    "#!pip install lightgbm\n",
    "from lightgbm import LGBMClassifier, LGBMRegressor\n",
    "\n",
    "#!pip install catboost\n",
    "from catboost import CatBoostClassifier, CatBoostRegressor\n",
    "\n",
    "#!pip install umap-learn\n",
    "from umap import UMAP\n",
    "\n",
    "#!pip install faiss-cpu\n",
    "import faiss\n",
    "\n",
    "import numpy as np\n",
    "import pandas as pd\n",
    "\n",
    "from sklearn.metrics import (f1_score, mean_squared_error, accuracy_score, precision_score, recall_score,\n",
    "                             roc_auc_score, roc_curve, confusion_matrix, precision_recall_curve)\n",
    "                             \n",
    "from sklearn.preprocessing import OneHotEncoder, StandardScaler\n",
    "from sklearn.model_selection import train_test_split, GridSearchCV\n",
    "from sklearn.decomposition import PCA\n",
    "from sklearn.naive_bayes import BernoulliNB, GaussianNB\n",
    "from sklearn.utils import shuffle\n",
    "from sklearn.neighbors import KNeighborsClassifier, KNeighborsRegressor\n",
    "\n",
    "\n",
    "\n",
    "import math \n",
    "\n",
    "from tqdm import tqdm\n",
    "\n",
    "#pd.set_option('display.max_rows', 10)\n",
    "#pd.set_option('display.max_columns', 10)\n",
    "#pd.set_option('display.width', 10)\n",
    "\n",
    "\n",
    "#np.set_printoptions(threshold=np.inf)\n",
    "#torch.set_printoptions(threshold=10_000)\n",
    "#torch.set_printoptions(linewidth=200)"
   ]
  },
  {
   "cell_type": "markdown",
   "id": "10e70617",
   "metadata": {},
   "source": [
    "# Tabular Data"
   ]
  },
  {
   "cell_type": "code",
   "execution_count": 2,
   "id": "478ea164",
   "metadata": {},
   "outputs": [],
   "source": [
    "train_dataset_local = r'C:\\Users\\exeve\\OneDrive\\Documentos\\binary-classification-offers-on-the-marketplace\\train.csv'\n",
    "test_dataset_local = r'C:\\Users\\exeve\\OneDrive\\Documentos\\binary-classification-offers-on-the-marketplace\\test.csv'"
   ]
  },
  {
   "cell_type": "code",
   "execution_count": 3,
   "id": "14fad508",
   "metadata": {},
   "outputs": [],
   "source": [
    "try:\n",
    "    train_dataset = pd.read_csv('train.csv')\n",
    "    test_dataset = pd.read_csv('test.csv')\n",
    "except:\n",
    "     train_dataset = pd.read_csv(train_dataset_local)\n",
    "     test_dataset = pd.read_csv(test_dataset_local)"
   ]
  },
  {
   "cell_type": "code",
   "execution_count": 4,
   "id": "06117c47",
   "metadata": {},
   "outputs": [
    {
     "name": "stdout",
     "output_type": "stream",
     "text": [
      "<class 'pandas.core.frame.DataFrame'>\n",
      "RangeIndex: 2518441 entries, 0 to 2518440\n",
      "Data columns (total 9 columns):\n",
      " #   Column                Dtype  \n",
      "---  ------                -----  \n",
      " 0   offer_depersanalised  int64  \n",
      " 1   goods_depersanalised  int64  \n",
      " 2   sum_length            int64  \n",
      " 3   attrs+title_score     float64\n",
      " 4   offer_price           int64  \n",
      " 5   goods_price           float64\n",
      " 6   goods_category_id     float64\n",
      " 7   target                int64  \n",
      " 8   id                    object \n",
      "dtypes: float64(3), int64(5), object(1)\n",
      "memory usage: 172.9+ MB\n"
     ]
    }
   ],
   "source": [
    "train_dataset.info()"
   ]
  },
  {
   "cell_type": "code",
   "execution_count": 5,
   "id": "422aa2d2",
   "metadata": {},
   "outputs": [
    {
     "data": {
      "text/html": [
       "<div>\n",
       "<style scoped>\n",
       "    .dataframe tbody tr th:only-of-type {\n",
       "        vertical-align: middle;\n",
       "    }\n",
       "\n",
       "    .dataframe tbody tr th {\n",
       "        vertical-align: top;\n",
       "    }\n",
       "\n",
       "    .dataframe thead th {\n",
       "        text-align: right;\n",
       "    }\n",
       "</style>\n",
       "<table border=\"1\" class=\"dataframe\">\n",
       "  <thead>\n",
       "    <tr style=\"text-align: right;\">\n",
       "      <th></th>\n",
       "      <th>offer_depersanalised</th>\n",
       "      <th>goods_depersanalised</th>\n",
       "      <th>sum_length</th>\n",
       "      <th>attrs+title_score</th>\n",
       "      <th>offer_price</th>\n",
       "      <th>goods_price</th>\n",
       "      <th>goods_category_id</th>\n",
       "      <th>target</th>\n",
       "      <th>id</th>\n",
       "    </tr>\n",
       "  </thead>\n",
       "  <tbody>\n",
       "    <tr>\n",
       "      <th>0</th>\n",
       "      <td>295140</td>\n",
       "      <td>1396793</td>\n",
       "      <td>37</td>\n",
       "      <td>0.027267</td>\n",
       "      <td>1070</td>\n",
       "      <td>NaN</td>\n",
       "      <td>14.0</td>\n",
       "      <td>0</td>\n",
       "      <td>295140$1396793</td>\n",
       "    </tr>\n",
       "    <tr>\n",
       "      <th>1</th>\n",
       "      <td>65291</td>\n",
       "      <td>1396586</td>\n",
       "      <td>38</td>\n",
       "      <td>0.050415</td>\n",
       "      <td>698</td>\n",
       "      <td>NaN</td>\n",
       "      <td>14.0</td>\n",
       "      <td>0</td>\n",
       "      <td>65291$1396586</td>\n",
       "    </tr>\n",
       "  </tbody>\n",
       "</table>\n",
       "</div>"
      ],
      "text/plain": [
       "   offer_depersanalised  goods_depersanalised  sum_length  attrs+title_score  \\\n",
       "0                295140               1396793          37           0.027267   \n",
       "1                 65291               1396586          38           0.050415   \n",
       "\n",
       "   offer_price  goods_price  goods_category_id  target              id  \n",
       "0         1070          NaN               14.0       0  295140$1396793  \n",
       "1          698          NaN               14.0       0   65291$1396586  "
      ]
     },
     "execution_count": 5,
     "metadata": {},
     "output_type": "execute_result"
    }
   ],
   "source": [
    "train_dataset.head(2)"
   ]
  },
  {
   "cell_type": "code",
   "execution_count": 6,
   "id": "0ba4273c",
   "metadata": {},
   "outputs": [
    {
     "data": {
      "text/html": [
       "<div>\n",
       "<style scoped>\n",
       "    .dataframe tbody tr th:only-of-type {\n",
       "        vertical-align: middle;\n",
       "    }\n",
       "\n",
       "    .dataframe tbody tr th {\n",
       "        vertical-align: top;\n",
       "    }\n",
       "\n",
       "    .dataframe thead th {\n",
       "        text-align: right;\n",
       "    }\n",
       "</style>\n",
       "<table border=\"1\" class=\"dataframe\">\n",
       "  <thead>\n",
       "    <tr style=\"text-align: right;\">\n",
       "      <th></th>\n",
       "      <th>offer_depersanalised</th>\n",
       "      <th>goods_depersanalised</th>\n",
       "      <th>sum_length</th>\n",
       "      <th>attrs+title_score</th>\n",
       "      <th>offer_price</th>\n",
       "      <th>goods_price</th>\n",
       "      <th>goods_category_id</th>\n",
       "      <th>id</th>\n",
       "    </tr>\n",
       "  </thead>\n",
       "  <tbody>\n",
       "    <tr>\n",
       "      <th>0</th>\n",
       "      <td>64819</td>\n",
       "      <td>1396468</td>\n",
       "      <td>38</td>\n",
       "      <td>0.046997</td>\n",
       "      <td>368</td>\n",
       "      <td>NaN</td>\n",
       "      <td>14.0</td>\n",
       "      <td>64819$1396468</td>\n",
       "    </tr>\n",
       "    <tr>\n",
       "      <th>1</th>\n",
       "      <td>64819</td>\n",
       "      <td>1396235</td>\n",
       "      <td>38</td>\n",
       "      <td>0.046997</td>\n",
       "      <td>368</td>\n",
       "      <td>NaN</td>\n",
       "      <td>14.0</td>\n",
       "      <td>64819$1396235</td>\n",
       "    </tr>\n",
       "  </tbody>\n",
       "</table>\n",
       "</div>"
      ],
      "text/plain": [
       "   offer_depersanalised  goods_depersanalised  sum_length  attrs+title_score  \\\n",
       "0                 64819               1396468          38           0.046997   \n",
       "1                 64819               1396235          38           0.046997   \n",
       "\n",
       "   offer_price  goods_price  goods_category_id             id  \n",
       "0          368          NaN               14.0  64819$1396468  \n",
       "1          368          NaN               14.0  64819$1396235  "
      ]
     },
     "execution_count": 6,
     "metadata": {},
     "output_type": "execute_result"
    }
   ],
   "source": [
    "test_dataset.head(2)"
   ]
  },
  {
   "cell_type": "code",
   "execution_count": 7,
   "id": "17dc8c82",
   "metadata": {},
   "outputs": [
    {
     "name": "stdout",
     "output_type": "stream",
     "text": [
      "2518441\n",
      "363835\n"
     ]
    }
   ],
   "source": [
    "print(len(train_dataset)) # rows in training dataset\n",
    "print(len(test_dataset)) # rows in testing dataset"
   ]
  },
  {
   "cell_type": "code",
   "execution_count": 8,
   "id": "c746c6f6",
   "metadata": {},
   "outputs": [
    {
     "data": {
      "text/plain": [
       "0.11699420395395406"
      ]
     },
     "execution_count": 8,
     "metadata": {},
     "output_type": "execute_result"
    }
   ],
   "source": [
    "# checking balance\n",
    "sum(train_dataset['target'])/train_dataset.shape[0]"
   ]
  },
  {
   "cell_type": "code",
   "execution_count": 9,
   "id": "ea036b55",
   "metadata": {},
   "outputs": [
    {
     "data": {
      "text/plain": [
       "0    2223798\n",
       "1     294643\n",
       "Name: target, dtype: int64"
      ]
     },
     "execution_count": 9,
     "metadata": {},
     "output_type": "execute_result"
    }
   ],
   "source": [
    "train_dataset['target'].value_counts()"
   ]
  },
  {
   "cell_type": "markdown",
   "id": "8512816d",
   "metadata": {},
   "source": [
    "The dataset is very unbalanced: only 11,70% is positive class. So an F1 metric should be used to estimate the results."
   ]
  },
  {
   "cell_type": "markdown",
   "id": "1aad4594",
   "metadata": {},
   "source": [
    "### A function to estimate gaps %"
   ]
  },
  {
   "cell_type": "code",
   "execution_count": 10,
   "id": "4a15c936",
   "metadata": {},
   "outputs": [],
   "source": [
    "def gaps(df):\n",
    "    try:\n",
    "        (\n",
    "            (df.isna().mean()*100)\n",
    "            .to_frame()\n",
    "            .rename(columns = {0:'space'})\n",
    "            .query('space > 0')\n",
    "            .sort_values(by = 'space', ascending = True)\n",
    "            .plot(kind = 'barh', figsize = (19,6), rot = 0, legend = False, fontsize = 16, color = 'skyblue')\n",
    "            .set_title('Missing values %' + \"\\n\", fontsize = 22, color = 'SteelBlue')    \n",
    "        );    \n",
    "    except:\n",
    "        print('no gaps left  :)  ')"
   ]
  },
  {
   "cell_type": "markdown",
   "id": "62120431",
   "metadata": {},
   "source": [
    "## Checking gaps"
   ]
  },
  {
   "cell_type": "markdown",
   "id": "cd3d8dc1",
   "metadata": {},
   "source": [
    "### train_dataset gaps"
   ]
  },
  {
   "cell_type": "code",
   "execution_count": 11,
   "id": "73c6c425",
   "metadata": {},
   "outputs": [
    {
     "data": {
      "image/png": "[encoded data removed]",
      "text/plain": [
       "<Figure size 1900x600 with 1 Axes>"
      ]
     },
     "metadata": {},
     "output_type": "display_data"
    }
   ],
   "source": [
    "gaps(train_dataset)"
   ]
  },
  {
   "cell_type": "code",
   "execution_count": 12,
   "id": "443b374f",
   "metadata": {},
   "outputs": [
    {
     "data": {
      "image/png": "[encoded data removed]",
      "text/plain": [
       "<Figure size 1200x600 with 1 Axes>"
      ]
     },
     "metadata": {},
     "output_type": "display_data"
    }
   ],
   "source": [
    "plt.figure(figsize=(12,6))\n",
    "plt.title('goods_category_id TRAINING SET', y = 1.03) \n",
    "train_dataset['goods_category_id'].value_counts().plot(kind='bar')\n",
    "plt.xlabel('Categories', labelpad=10)\n",
    "plt.ylabel('Count', labelpad=10)\n",
    "\n",
    "plt.show()"
   ]
  },
  {
   "cell_type": "code",
   "execution_count": 13,
   "id": "bdfc5651",
   "metadata": {},
   "outputs": [],
   "source": [
    "# filling the missing values in 'goods_category_id' with a random number, for example 99. We'll one-hot codify the data later.\n",
    "train_dataset['goods_category_id'] = train_dataset['goods_category_id'].fillna(99.0)"
   ]
  },
  {
   "cell_type": "code",
   "execution_count": 14,
   "id": "de4a583e",
   "metadata": {},
   "outputs": [],
   "source": [
    "# filling gaps with the median by category\n",
    "for c in train_dataset['goods_category_id'].unique():\n",
    "    train_dataset.loc[(train_dataset['goods_category_id'] == c) & (train_dataset['goods_price'].isna()), 'goods_price'] = \\\n",
    "    train_dataset.loc[(train_dataset['goods_category_id'] == c), 'goods_price'].median()"
   ]
  },
  {
   "cell_type": "code",
   "execution_count": 15,
   "id": "b7ee59d2",
   "metadata": {},
   "outputs": [
    {
     "name": "stdout",
     "output_type": "stream",
     "text": [
      "no gaps left  :)  \n"
     ]
    },
    {
     "data": {
      "image/png": "[encoded data removed]",
      "text/plain": [
       "<Figure size 1900x600 with 1 Axes>"
      ]
     },
     "metadata": {},
     "output_type": "display_data"
    }
   ],
   "source": [
    "gaps(train_dataset)"
   ]
  },
  {
   "cell_type": "markdown",
   "id": "4c772562",
   "metadata": {},
   "source": [
    "### test_dataset gaps"
   ]
  },
  {
   "cell_type": "code",
   "execution_count": 16,
   "id": "268bd487",
   "metadata": {},
   "outputs": [
    {
     "data": {
      "image/png": "[encoded data removed]",
      "text/plain": [
       "<Figure size 1900x600 with 1 Axes>"
      ]
     },
     "metadata": {},
     "output_type": "display_data"
    }
   ],
   "source": [
    "gaps(test_dataset)"
   ]
  },
  {
   "cell_type": "code",
   "execution_count": 17,
   "id": "56b87237",
   "metadata": {},
   "outputs": [
    {
     "data": {
      "image/png": "[encoded data removed]",
      "text/plain": [
       "<Figure size 1200x600 with 1 Axes>"
      ]
     },
     "metadata": {},
     "output_type": "display_data"
    }
   ],
   "source": [
    "plt.figure(figsize=(12,6))\n",
    "plt.title('goods_category_id TESTING SET', y = 1.03) \n",
    "test_dataset['goods_category_id'].value_counts().plot(kind='bar')\n",
    "plt.xlabel('Categories', labelpad=10)\n",
    "plt.ylabel('Count', labelpad=10)\n",
    "plt.show()"
   ]
  },
  {
   "cell_type": "code",
   "execution_count": 18,
   "id": "9086008a",
   "metadata": {},
   "outputs": [],
   "source": [
    "test_dataset['goods_category_id'] = test_dataset['goods_category_id'].fillna(99.0)"
   ]
  },
  {
   "cell_type": "code",
   "execution_count": 19,
   "id": "e372bb97",
   "metadata": {},
   "outputs": [],
   "source": [
    "for c in test_dataset['goods_category_id'].unique():\n",
    "    test_dataset.loc[(test_dataset['goods_category_id'] == c) & (test_dataset['goods_price'].isna()), 'goods_price'] = \\\n",
    "    test_dataset.loc[(test_dataset['goods_category_id'] == c), 'goods_price'].median()"
   ]
  },
  {
   "cell_type": "code",
   "execution_count": 20,
   "id": "f9a8fa81",
   "metadata": {},
   "outputs": [
    {
     "name": "stdout",
     "output_type": "stream",
     "text": [
      "no gaps left  :)  \n"
     ]
    },
    {
     "data": {
      "image/png": "[encoded data removed]",
      "text/plain": [
       "<Figure size 1900x600 with 1 Axes>"
      ]
     },
     "metadata": {},
     "output_type": "display_data"
    }
   ],
   "source": [
    "gaps(test_dataset)"
   ]
  },
  {
   "cell_type": "markdown",
   "id": "6f393ad3",
   "metadata": {},
   "source": [
    "## Checking duplicates"
   ]
  },
  {
   "cell_type": "markdown",
   "id": "6870476f",
   "metadata": {},
   "source": [
    "### train_dataset duplicates"
   ]
  },
  {
   "cell_type": "code",
   "execution_count": 21,
   "id": "1f3678e2",
   "metadata": {},
   "outputs": [
    {
     "name": "stdout",
     "output_type": "stream",
     "text": [
      "0\n",
      "18441\n",
      "18441\n"
     ]
    }
   ],
   "source": [
    "print(train_dataset.duplicated().sum())\n",
    "print(train_dataset.duplicated(['goods_depersanalised', 'offer_depersanalised']).sum())\n",
    "print(train_dataset.duplicated('id').sum())"
   ]
  },
  {
   "cell_type": "code",
   "execution_count": 22,
   "id": "2cc7078d",
   "metadata": {},
   "outputs": [],
   "source": [
    "# dropping duplicates \n",
    "#train_dataset = train_dataset.drop_duplicates('id')"
   ]
  },
  {
   "cell_type": "markdown",
   "id": "cd277f73",
   "metadata": {},
   "source": [
    "### test_dataset duplicates"
   ]
  },
  {
   "cell_type": "code",
   "execution_count": 23,
   "id": "e43ad088",
   "metadata": {},
   "outputs": [
    {
     "name": "stdout",
     "output_type": "stream",
     "text": [
      "0\n",
      "0\n",
      "0\n"
     ]
    }
   ],
   "source": [
    "print(test_dataset.duplicated().sum())\n",
    "print(test_dataset.duplicated(['goods_depersanalised', 'offer_depersanalised']).sum())\n",
    "print(test_dataset.duplicated('id').sum())"
   ]
  },
  {
   "cell_type": "markdown",
   "id": "f9d8e452",
   "metadata": {},
   "source": [
    "## Correlation"
   ]
  },
  {
   "cell_type": "markdown",
   "id": "873ec759",
   "metadata": {},
   "source": [
    "### train_dataset"
   ]
  },
  {
   "cell_type": "code",
   "execution_count": 24,
   "id": "33fb02f3",
   "metadata": {},
   "outputs": [
    {
     "data": {
      "image/png": "[encoded data removed]",
      "text/plain": [
       "<Figure size 800x500 with 2 Axes>"
      ]
     },
     "metadata": {},
     "output_type": "display_data"
    }
   ],
   "source": [
    "plt.figure(figsize=(8,5))\n",
    "plt.title('Training Set Correlation map', y = 1.03, fontsize = 15, color = 'SteelBlue')\n",
    "sns.heatmap(train_dataset.drop(['id','goods_category_id', 'goods_depersanalised', 'offer_depersanalised'], axis=1).corr(), annot=True, cmap = 'coolwarm')\n",
    "plt.show()"
   ]
  },
  {
   "cell_type": "markdown",
   "id": "96f6800a",
   "metadata": {},
   "source": [
    "No correlation but `attrs+title_score` with `target` (0.71), but it not significant enough to remove the feature. "
   ]
  },
  {
   "cell_type": "markdown",
   "id": "bccda35b",
   "metadata": {},
   "source": [
    "### test_dataset"
   ]
  },
  {
   "cell_type": "code",
   "execution_count": 25,
   "id": "034fa26c",
   "metadata": {},
   "outputs": [
    {
     "data": {
      "image/png": "[encoded data removed]",
      "text/plain": [
       "<Figure size 800x500 with 2 Axes>"
      ]
     },
     "metadata": {},
     "output_type": "display_data"
    }
   ],
   "source": [
    "plt.figure(figsize=(8,5))\n",
    "plt.title('Testing Set Correlation map', y = 1.03, fontsize = 15, color = 'SteelBlue')\n",
    "sns.heatmap(test_dataset.drop(['id','goods_category_id', 'goods_depersanalised', 'offer_depersanalised'], axis=1).corr(), annot=True, cmap = 'coolwarm')\n",
    "plt.show()"
   ]
  },
  {
   "cell_type": "markdown",
   "id": "235bee7c",
   "metadata": {},
   "source": [
    "No correlation."
   ]
  },
  {
   "cell_type": "markdown",
   "id": "6ca3bd44",
   "metadata": {},
   "source": [
    "## Normalization \n",
    "The numerical data we have are of very different scales. To improve the quality of the prediction it is better to bring them to the same scale."
   ]
  },
  {
   "cell_type": "code",
   "execution_count": 26,
   "id": "444df354",
   "metadata": {},
   "outputs": [],
   "source": [
    "for_scaling = ['sum_length', 'attrs+title_score', 'offer_price', 'goods_price'] # features to be scaled\n",
    "\n",
    "scaler = StandardScaler()\n",
    "\n",
    "scaler.fit(train_dataset[for_scaling])\n",
    "\n",
    "scaled_feature_names = scaler.get_feature_names_out()\n",
    "\n",
    "# scaling training set\n",
    "train_dataset[for_scaling] = pd.DataFrame(scaler.transform(train_dataset[for_scaling]), columns = scaled_feature_names)\n",
    "\n",
    "# scaling testing set\n",
    "test_dataset[for_scaling] = pd.DataFrame(scaler.transform(test_dataset[for_scaling]), columns = scaled_feature_names)"
   ]
  },
  {
   "cell_type": "code",
   "execution_count": 27,
   "id": "4cc73377",
   "metadata": {},
   "outputs": [
    {
     "data": {
      "text/html": [
       "<div>\n",
       "<style scoped>\n",
       "    .dataframe tbody tr th:only-of-type {\n",
       "        vertical-align: middle;\n",
       "    }\n",
       "\n",
       "    .dataframe tbody tr th {\n",
       "        vertical-align: top;\n",
       "    }\n",
       "\n",
       "    .dataframe thead th {\n",
       "        text-align: right;\n",
       "    }\n",
       "</style>\n",
       "<table border=\"1\" class=\"dataframe\">\n",
       "  <thead>\n",
       "    <tr style=\"text-align: right;\">\n",
       "      <th></th>\n",
       "      <th>offer_depersanalised</th>\n",
       "      <th>goods_depersanalised</th>\n",
       "      <th>sum_length</th>\n",
       "      <th>attrs+title_score</th>\n",
       "      <th>offer_price</th>\n",
       "      <th>goods_price</th>\n",
       "      <th>goods_category_id</th>\n",
       "      <th>target</th>\n",
       "      <th>id</th>\n",
       "    </tr>\n",
       "  </thead>\n",
       "  <tbody>\n",
       "    <tr>\n",
       "      <th>0</th>\n",
       "      <td>295140</td>\n",
       "      <td>1396793</td>\n",
       "      <td>-1.289479</td>\n",
       "      <td>-0.383736</td>\n",
       "      <td>-0.097729</td>\n",
       "      <td>-0.005516</td>\n",
       "      <td>14.0</td>\n",
       "      <td>0</td>\n",
       "      <td>295140$1396793</td>\n",
       "    </tr>\n",
       "    <tr>\n",
       "      <th>1</th>\n",
       "      <td>65291</td>\n",
       "      <td>1396586</td>\n",
       "      <td>-1.287134</td>\n",
       "      <td>-0.296211</td>\n",
       "      <td>-0.097767</td>\n",
       "      <td>-0.005516</td>\n",
       "      <td>14.0</td>\n",
       "      <td>0</td>\n",
       "      <td>65291$1396586</td>\n",
       "    </tr>\n",
       "  </tbody>\n",
       "</table>\n",
       "</div>"
      ],
      "text/plain": [
       "   offer_depersanalised  goods_depersanalised  sum_length  attrs+title_score  \\\n",
       "0                295140               1396793   -1.289479          -0.383736   \n",
       "1                 65291               1396586   -1.287134          -0.296211   \n",
       "\n",
       "   offer_price  goods_price  goods_category_id  target              id  \n",
       "0    -0.097729    -0.005516               14.0       0  295140$1396793  \n",
       "1    -0.097767    -0.005516               14.0       0   65291$1396586  "
      ]
     },
     "metadata": {},
     "output_type": "display_data"
    },
    {
     "data": {
      "text/html": [
       "<div>\n",
       "<style scoped>\n",
       "    .dataframe tbody tr th:only-of-type {\n",
       "        vertical-align: middle;\n",
       "    }\n",
       "\n",
       "    .dataframe tbody tr th {\n",
       "        vertical-align: top;\n",
       "    }\n",
       "\n",
       "    .dataframe thead th {\n",
       "        text-align: right;\n",
       "    }\n",
       "</style>\n",
       "<table border=\"1\" class=\"dataframe\">\n",
       "  <thead>\n",
       "    <tr style=\"text-align: right;\">\n",
       "      <th></th>\n",
       "      <th>offer_depersanalised</th>\n",
       "      <th>goods_depersanalised</th>\n",
       "      <th>sum_length</th>\n",
       "      <th>attrs+title_score</th>\n",
       "      <th>offer_price</th>\n",
       "      <th>goods_price</th>\n",
       "      <th>goods_category_id</th>\n",
       "      <th>id</th>\n",
       "    </tr>\n",
       "  </thead>\n",
       "  <tbody>\n",
       "    <tr>\n",
       "      <th>0</th>\n",
       "      <td>64819</td>\n",
       "      <td>1396468</td>\n",
       "      <td>-1.287134</td>\n",
       "      <td>-0.309135</td>\n",
       "      <td>-0.097802</td>\n",
       "      <td>-0.005516</td>\n",
       "      <td>14.0</td>\n",
       "      <td>64819$1396468</td>\n",
       "    </tr>\n",
       "    <tr>\n",
       "      <th>1</th>\n",
       "      <td>64819</td>\n",
       "      <td>1396235</td>\n",
       "      <td>-1.287134</td>\n",
       "      <td>-0.309135</td>\n",
       "      <td>-0.097802</td>\n",
       "      <td>-0.005516</td>\n",
       "      <td>14.0</td>\n",
       "      <td>64819$1396235</td>\n",
       "    </tr>\n",
       "  </tbody>\n",
       "</table>\n",
       "</div>"
      ],
      "text/plain": [
       "   offer_depersanalised  goods_depersanalised  sum_length  attrs+title_score  \\\n",
       "0                 64819               1396468   -1.287134          -0.309135   \n",
       "1                 64819               1396235   -1.287134          -0.309135   \n",
       "\n",
       "   offer_price  goods_price  goods_category_id             id  \n",
       "0    -0.097802    -0.005516               14.0  64819$1396468  \n",
       "1    -0.097802    -0.005516               14.0  64819$1396235  "
      ]
     },
     "metadata": {},
     "output_type": "display_data"
    }
   ],
   "source": [
    "display(train_dataset.head(2))\n",
    "display(test_dataset.head(2))"
   ]
  },
  {
   "cell_type": "markdown",
   "id": "739a182d",
   "metadata": {},
   "source": [
    "## One-Hot Encoding\n",
    "The values in `goods_category_id`, even if expressed as integers, represent categories. So that the model does not consider that the higher the number, the more important the category is, we will encode the values using One-Hot."
   ]
  },
  {
   "cell_type": "code",
   "execution_count": 28,
   "id": "a273680f",
   "metadata": {},
   "outputs": [],
   "source": [
    "to_encode = ['goods_category_id'] # the categorical feature to encode\n",
    "\n",
    "ohe = OneHotEncoder(drop = 'first', handle_unknown = 'infrequent_if_exist') # encoder"
   ]
  },
  {
   "cell_type": "code",
   "execution_count": 29,
   "id": "fb125c93",
   "metadata": {},
   "outputs": [],
   "source": [
    "ohe.fit(train_dataset[to_encode]) # fitting the encoder\n",
    "\n",
    "feature_names = ohe.get_feature_names_out()  # saving feature names, since the enocoder returns an np.array with no column names"
   ]
  },
  {
   "cell_type": "markdown",
   "id": "a59d2bdc",
   "metadata": {},
   "source": [
    "### Encoding train_dataset"
   ]
  },
  {
   "cell_type": "code",
   "execution_count": 30,
   "id": "f0520963",
   "metadata": {},
   "outputs": [
    {
     "data": {
      "text/html": [
       "<div>\n",
       "<style scoped>\n",
       "    .dataframe tbody tr th:only-of-type {\n",
       "        vertical-align: middle;\n",
       "    }\n",
       "\n",
       "    .dataframe tbody tr th {\n",
       "        vertical-align: top;\n",
       "    }\n",
       "\n",
       "    .dataframe thead th {\n",
       "        text-align: right;\n",
       "    }\n",
       "</style>\n",
       "<table border=\"1\" class=\"dataframe\">\n",
       "  <thead>\n",
       "    <tr style=\"text-align: right;\">\n",
       "      <th></th>\n",
       "      <th>offer_depersanalised</th>\n",
       "      <th>goods_depersanalised</th>\n",
       "      <th>sum_length</th>\n",
       "      <th>attrs+title_score</th>\n",
       "      <th>offer_price</th>\n",
       "      <th>goods_price</th>\n",
       "      <th>target</th>\n",
       "      <th>id</th>\n",
       "      <th>goods_category_id_3.0</th>\n",
       "      <th>goods_category_id_4.0</th>\n",
       "      <th>...</th>\n",
       "      <th>goods_category_id_17.0</th>\n",
       "      <th>goods_category_id_18.0</th>\n",
       "      <th>goods_category_id_19.0</th>\n",
       "      <th>goods_category_id_21.0</th>\n",
       "      <th>goods_category_id_69.0</th>\n",
       "      <th>goods_category_id_81.0</th>\n",
       "      <th>goods_category_id_82.0</th>\n",
       "      <th>goods_category_id_83.0</th>\n",
       "      <th>goods_category_id_99.0</th>\n",
       "      <th>goods_category_id_2463684633817211.0</th>\n",
       "    </tr>\n",
       "  </thead>\n",
       "  <tbody>\n",
       "    <tr>\n",
       "      <th>0</th>\n",
       "      <td>295140</td>\n",
       "      <td>1396793</td>\n",
       "      <td>-1.289479</td>\n",
       "      <td>-0.383736</td>\n",
       "      <td>-0.097729</td>\n",
       "      <td>-0.005516</td>\n",
       "      <td>0</td>\n",
       "      <td>295140$1396793</td>\n",
       "      <td>0.0</td>\n",
       "      <td>0.0</td>\n",
       "      <td>...</td>\n",
       "      <td>0.0</td>\n",
       "      <td>0.0</td>\n",
       "      <td>0.0</td>\n",
       "      <td>0.0</td>\n",
       "      <td>0.0</td>\n",
       "      <td>0.0</td>\n",
       "      <td>0.0</td>\n",
       "      <td>0.0</td>\n",
       "      <td>0.0</td>\n",
       "      <td>0.0</td>\n",
       "    </tr>\n",
       "    <tr>\n",
       "      <th>1</th>\n",
       "      <td>65291</td>\n",
       "      <td>1396586</td>\n",
       "      <td>-1.287134</td>\n",
       "      <td>-0.296211</td>\n",
       "      <td>-0.097767</td>\n",
       "      <td>-0.005516</td>\n",
       "      <td>0</td>\n",
       "      <td>65291$1396586</td>\n",
       "      <td>0.0</td>\n",
       "      <td>0.0</td>\n",
       "      <td>...</td>\n",
       "      <td>0.0</td>\n",
       "      <td>0.0</td>\n",
       "      <td>0.0</td>\n",
       "      <td>0.0</td>\n",
       "      <td>0.0</td>\n",
       "      <td>0.0</td>\n",
       "      <td>0.0</td>\n",
       "      <td>0.0</td>\n",
       "      <td>0.0</td>\n",
       "      <td>0.0</td>\n",
       "    </tr>\n",
       "  </tbody>\n",
       "</table>\n",
       "<p>2 rows × 28 columns</p>\n",
       "</div>"
      ],
      "text/plain": [
       "   offer_depersanalised  goods_depersanalised  sum_length  attrs+title_score  \\\n",
       "0                295140               1396793   -1.289479          -0.383736   \n",
       "1                 65291               1396586   -1.287134          -0.296211   \n",
       "\n",
       "   offer_price  goods_price  target              id  goods_category_id_3.0  \\\n",
       "0    -0.097729    -0.005516       0  295140$1396793                    0.0   \n",
       "1    -0.097767    -0.005516       0   65291$1396586                    0.0   \n",
       "\n",
       "   goods_category_id_4.0  ...  goods_category_id_17.0  goods_category_id_18.0  \\\n",
       "0                    0.0  ...                     0.0                     0.0   \n",
       "1                    0.0  ...                     0.0                     0.0   \n",
       "\n",
       "   goods_category_id_19.0  goods_category_id_21.0  goods_category_id_69.0  \\\n",
       "0                     0.0                     0.0                     0.0   \n",
       "1                     0.0                     0.0                     0.0   \n",
       "\n",
       "   goods_category_id_81.0  goods_category_id_82.0  goods_category_id_83.0  \\\n",
       "0                     0.0                     0.0                     0.0   \n",
       "1                     0.0                     0.0                     0.0   \n",
       "\n",
       "   goods_category_id_99.0  goods_category_id_2463684633817211.0  \n",
       "0                     0.0                                   0.0  \n",
       "1                     0.0                                   0.0  \n",
       "\n",
       "[2 rows x 28 columns]"
      ]
     },
     "metadata": {},
     "output_type": "display_data"
    }
   ],
   "source": [
    "features_array = ohe.transform(train_dataset[to_encode]).toarray()\n",
    "ohe_features = pd.DataFrame(features_array, columns = feature_names)\n",
    "train_dataset = train_dataset.drop(to_encode, axis = 1)\n",
    "\n",
    "train_dataset = train_dataset.reset_index(drop=True)\n",
    "ohe_features = ohe_features.reset_index(drop=True)\n",
    "\n",
    "train_dataset = train_dataset.join(ohe_features, how = 'outer')\n",
    "display(train_dataset.head(2))"
   ]
  },
  {
   "cell_type": "markdown",
   "id": "363a00fe",
   "metadata": {},
   "source": [
    "### Encoding test_dataset"
   ]
  },
  {
   "cell_type": "code",
   "execution_count": 31,
   "id": "d4c64486",
   "metadata": {},
   "outputs": [
    {
     "data": {
      "text/html": [
       "<div>\n",
       "<style scoped>\n",
       "    .dataframe tbody tr th:only-of-type {\n",
       "        vertical-align: middle;\n",
       "    }\n",
       "\n",
       "    .dataframe tbody tr th {\n",
       "        vertical-align: top;\n",
       "    }\n",
       "\n",
       "    .dataframe thead th {\n",
       "        text-align: right;\n",
       "    }\n",
       "</style>\n",
       "<table border=\"1\" class=\"dataframe\">\n",
       "  <thead>\n",
       "    <tr style=\"text-align: right;\">\n",
       "      <th></th>\n",
       "      <th>offer_depersanalised</th>\n",
       "      <th>goods_depersanalised</th>\n",
       "      <th>sum_length</th>\n",
       "      <th>attrs+title_score</th>\n",
       "      <th>offer_price</th>\n",
       "      <th>goods_price</th>\n",
       "      <th>id</th>\n",
       "      <th>goods_category_id_3.0</th>\n",
       "      <th>goods_category_id_4.0</th>\n",
       "      <th>goods_category_id_5.0</th>\n",
       "      <th>...</th>\n",
       "      <th>goods_category_id_17.0</th>\n",
       "      <th>goods_category_id_18.0</th>\n",
       "      <th>goods_category_id_19.0</th>\n",
       "      <th>goods_category_id_21.0</th>\n",
       "      <th>goods_category_id_69.0</th>\n",
       "      <th>goods_category_id_81.0</th>\n",
       "      <th>goods_category_id_82.0</th>\n",
       "      <th>goods_category_id_83.0</th>\n",
       "      <th>goods_category_id_99.0</th>\n",
       "      <th>goods_category_id_2463684633817211.0</th>\n",
       "    </tr>\n",
       "  </thead>\n",
       "  <tbody>\n",
       "    <tr>\n",
       "      <th>0</th>\n",
       "      <td>64819</td>\n",
       "      <td>1396468</td>\n",
       "      <td>-1.287134</td>\n",
       "      <td>-0.309135</td>\n",
       "      <td>-0.097802</td>\n",
       "      <td>-0.005516</td>\n",
       "      <td>64819$1396468</td>\n",
       "      <td>0.0</td>\n",
       "      <td>0.0</td>\n",
       "      <td>0.0</td>\n",
       "      <td>...</td>\n",
       "      <td>0.0</td>\n",
       "      <td>0.0</td>\n",
       "      <td>0.0</td>\n",
       "      <td>0.0</td>\n",
       "      <td>0.0</td>\n",
       "      <td>0.0</td>\n",
       "      <td>0.0</td>\n",
       "      <td>0.0</td>\n",
       "      <td>0.0</td>\n",
       "      <td>0.0</td>\n",
       "    </tr>\n",
       "    <tr>\n",
       "      <th>1</th>\n",
       "      <td>64819</td>\n",
       "      <td>1396235</td>\n",
       "      <td>-1.287134</td>\n",
       "      <td>-0.309135</td>\n",
       "      <td>-0.097802</td>\n",
       "      <td>-0.005516</td>\n",
       "      <td>64819$1396235</td>\n",
       "      <td>0.0</td>\n",
       "      <td>0.0</td>\n",
       "      <td>0.0</td>\n",
       "      <td>...</td>\n",
       "      <td>0.0</td>\n",
       "      <td>0.0</td>\n",
       "      <td>0.0</td>\n",
       "      <td>0.0</td>\n",
       "      <td>0.0</td>\n",
       "      <td>0.0</td>\n",
       "      <td>0.0</td>\n",
       "      <td>0.0</td>\n",
       "      <td>0.0</td>\n",
       "      <td>0.0</td>\n",
       "    </tr>\n",
       "  </tbody>\n",
       "</table>\n",
       "<p>2 rows × 27 columns</p>\n",
       "</div>"
      ],
      "text/plain": [
       "   offer_depersanalised  goods_depersanalised  sum_length  attrs+title_score  \\\n",
       "0                 64819               1396468   -1.287134          -0.309135   \n",
       "1                 64819               1396235   -1.287134          -0.309135   \n",
       "\n",
       "   offer_price  goods_price             id  goods_category_id_3.0  \\\n",
       "0    -0.097802    -0.005516  64819$1396468                    0.0   \n",
       "1    -0.097802    -0.005516  64819$1396235                    0.0   \n",
       "\n",
       "   goods_category_id_4.0  goods_category_id_5.0  ...  goods_category_id_17.0  \\\n",
       "0                    0.0                    0.0  ...                     0.0   \n",
       "1                    0.0                    0.0  ...                     0.0   \n",
       "\n",
       "   goods_category_id_18.0  goods_category_id_19.0  goods_category_id_21.0  \\\n",
       "0                     0.0                     0.0                     0.0   \n",
       "1                     0.0                     0.0                     0.0   \n",
       "\n",
       "   goods_category_id_69.0  goods_category_id_81.0  goods_category_id_82.0  \\\n",
       "0                     0.0                     0.0                     0.0   \n",
       "1                     0.0                     0.0                     0.0   \n",
       "\n",
       "   goods_category_id_83.0  goods_category_id_99.0  \\\n",
       "0                     0.0                     0.0   \n",
       "1                     0.0                     0.0   \n",
       "\n",
       "   goods_category_id_2463684633817211.0  \n",
       "0                                   0.0  \n",
       "1                                   0.0  \n",
       "\n",
       "[2 rows x 27 columns]"
      ]
     },
     "metadata": {},
     "output_type": "display_data"
    }
   ],
   "source": [
    "features_array_t = ohe.transform(test_dataset[to_encode]).toarray()\n",
    "ohe_features_t = pd.DataFrame(features_array_t, columns = feature_names)\n",
    "test_dataset = test_dataset.drop(to_encode, axis = 1)\n",
    "\n",
    "test_dataset = test_dataset.reset_index(drop=True)\n",
    "ohe_features_t = ohe_features_t.reset_index(drop=True)\n",
    "\n",
    "test_dataset = test_dataset.join(ohe_features_t, how = 'outer')\n",
    "display(test_dataset.head(2))"
   ]
  },
  {
   "cell_type": "markdown",
   "id": "8492191d",
   "metadata": {},
   "source": [
    "# Embedding Data"
   ]
  },
  {
   "cell_type": "markdown",
   "id": "4f2af02f",
   "metadata": {},
   "source": [
    "### Defining local paths to access embedding data"
   ]
  },
  {
   "cell_type": "code",
   "execution_count": 32,
   "id": "93562062",
   "metadata": {},
   "outputs": [],
   "source": [
    "# local paths Goods Images\n",
    "image_goods_embed_local = r'C:\\Users\\exeve\\OneDrive\\Documentos\\binary-classification-offers-on-the-marketplace\\goods_image_vectors\\goods_image_vectors\\embed_deperson.npy'\n",
    "image_goods_items_local = r'C:\\Users\\exeve\\OneDrive\\Documentos\\binary-classification-offers-on-the-marketplace\\goods_image_vectors\\goods_image_vectors\\items_deperson.npy'\n",
    "\n",
    "# local paths Goods Titles\n",
    "title_goods_embed_local = r'C:\\Users\\exeve\\OneDrive\\Documentos\\binary-classification-offers-on-the-marketplace\\goods_title_vectors\\goods_title_vectors\\embed_deperson.npy'\n",
    "title_goods_items_local = r'C:\\Users\\exeve\\OneDrive\\Documentos\\binary-classification-offers-on-the-marketplace\\goods_title_vectors\\goods_title_vectors\\items_deperson.npy'\n",
    "\n",
    "# local paths Offer Images\n",
    "image_offer_embed_local = r'C:\\Users\\exeve\\OneDrive\\Documentos\\binary-classification-offers-on-the-marketplace\\offer_image_vectors\\offer_image_vectors\\embed_deperson.npy'\n",
    "image_offer_items_local = r'C:\\Users\\exeve\\OneDrive\\Documentos\\binary-classification-offers-on-the-marketplace\\offer_image_vectors\\offer_image_vectors\\items_deperson.npy'\n",
    "\n",
    "# local paths Offer Titles\n",
    "title_offer_embed_local = r'C:\\Users\\exeve\\OneDrive\\Documentos\\binary-classification-offers-on-the-marketplace\\offer_title_vectors\\offer_title_vectors\\embed_deperson.npy'\n",
    "title_offer_items_local = r'C:\\Users\\exeve\\OneDrive\\Documentos\\binary-classification-offers-on-the-marketplace\\offer_title_vectors\\offer_title_vectors\\items_deperson.npy'"
   ]
  },
  {
   "cell_type": "markdown",
   "id": "c9dc4b15",
   "metadata": {},
   "source": [
    "### Goods images"
   ]
  },
  {
   "cell_type": "code",
   "execution_count": 33,
   "id": "b610cfd0",
   "metadata": {},
   "outputs": [],
   "source": [
    "try:\n",
    "    goods_image_embed = np.load(image_goods_embed_local)\n",
    "    goods_image_items = np.load(image_goods_items_local)\n",
    "except:\n",
    "    goods_image_embed = np.load('embed_deperson_image_goods.npy')\n",
    "    goods_image_items = np.load('items_deperson_image_goods.npy')"
   ]
  },
  {
   "cell_type": "markdown",
   "id": "7ff7d74f",
   "metadata": {},
   "source": [
    "### Goods titles"
   ]
  },
  {
   "cell_type": "code",
   "execution_count": 34,
   "id": "241aa98c",
   "metadata": {},
   "outputs": [],
   "source": [
    "try:\n",
    "    goods_title_embed = np.load('embed_deperson_title_goods.npy')\n",
    "    goods_title_items = np.load('items_deperson_title_goods.npy')\n",
    "    \n",
    "except:\n",
    "    goods_title_embed = np.load(title_goods_embed_local)\n",
    "    goods_title_items = np.load(title_goods_items_local)"
   ]
  },
  {
   "cell_type": "markdown",
   "id": "5a56ffff",
   "metadata": {},
   "source": [
    "### Offer images"
   ]
  },
  {
   "cell_type": "code",
   "execution_count": 35,
   "id": "a66078e3",
   "metadata": {},
   "outputs": [],
   "source": [
    "try:\n",
    "    offer_image_embed  = np.load('embed_deperson_image_offer.npy')\n",
    "    offer_image_items = np.load('items_deperson_image_offer.npy')\n",
    "except:\n",
    "    offer_image_embed  = np.load(image_offer_embed_local)\n",
    "    offer_image_items = np.load(image_offer_items_local)"
   ]
  },
  {
   "cell_type": "markdown",
   "id": "56745f8b",
   "metadata": {},
   "source": [
    "### Offer titles"
   ]
  },
  {
   "cell_type": "code",
   "execution_count": 36,
   "id": "5f6eb0ba",
   "metadata": {},
   "outputs": [],
   "source": [
    "try:\n",
    "    offer_title_embed  = np.load('embed_deperson_title_offer.npy')\n",
    "    offer_title_items  = np.load('items_deperson_title_offer.npy')\n",
    "except:\n",
    "    offer_title_embed  = np.load(title_offer_embed_local)\n",
    "    offer_title_items  = np.load(title_offer_items_local)"
   ]
  },
  {
   "cell_type": "markdown",
   "id": "30f09ca6",
   "metadata": {},
   "source": [
    "### Checking embeddings shape"
   ]
  },
  {
   "cell_type": "code",
   "execution_count": 37,
   "id": "1c92a8c1",
   "metadata": {},
   "outputs": [
    {
     "name": "stdout",
     "output_type": "stream",
     "text": [
      "Dimension of IMAGE embeddings for GOODS (317707, 256)\n",
      "Amount of IMAGE embeddings for GOODS (317707,)\n",
      "Dimension of TITLE embeddings for GOODS (1760568, 64)\n",
      "Amount of TITLE embeddings for GOODS (1760568,)\n",
      "Dimension of IMAGE embeddings for OFFER (457586, 256)\n",
      "Amount of IMAGE embendings for OFFER (457586,)\n",
      "Dimension of TITLE embeddings for OFFER (572767, 64)\n",
      "Amount of TITLE embeddings for OFFER (572767,)\n"
     ]
    }
   ],
   "source": [
    "print('Dimension of IMAGE embeddings for GOODS', goods_image_embed.shape)\n",
    "print('Amount of IMAGE embeddings for GOODS', goods_image_items.shape)\n",
    "\n",
    "print('Dimension of TITLE embeddings for GOODS', goods_title_embed.shape)\n",
    "print('Amount of TITLE embeddings for GOODS', goods_title_items.shape)\n",
    "\n",
    "print('Dimension of IMAGE embeddings for OFFER', offer_image_embed.shape)\n",
    "print('Amount of IMAGE embendings for OFFER', offer_image_items.shape)\n",
    "\n",
    "print('Dimension of TITLE embeddings for OFFER', offer_title_embed.shape)\n",
    "print('Amount of TITLE embeddings for OFFER', offer_title_items.shape)"
   ]
  },
  {
   "cell_type": "markdown",
   "id": "9b35b1bf",
   "metadata": {},
   "source": [
    "## Reducing Dimension\n",
    "We're goining to reduce the embeddings dimension via PCA (UMAP is more accurate but requires more resources and it much slower) to 2 components and add the resulting vectors to the datasets as new features to possibly improve the predictions."
   ]
  },
  {
   "cell_type": "markdown",
   "id": "b1821a72",
   "metadata": {},
   "source": [
    "#### Reducer"
   ]
  },
  {
   "cell_type": "code",
   "execution_count": 38,
   "id": "069da53a",
   "metadata": {},
   "outputs": [],
   "source": [
    "reducer = PCA(n_components=5, random_state = 42)"
   ]
  },
  {
   "cell_type": "markdown",
   "id": "3018379a",
   "metadata": {},
   "source": [
    "#### A funtion for changing feature names \n",
    "After reducing the dimension, the new columns do not have any naming. In order to successfuly join the reduced embeddings to the main datasets and avoid an error due to that some columns might have the same name (a number in range(len(n_components))), we will rename the columns.  "
   ]
  },
  {
   "cell_type": "code",
   "execution_count": 39,
   "id": "4765d213",
   "metadata": {},
   "outputs": [],
   "source": [
    "def change_name_columns(dataset, column_name, first_column_name=None, first_column=False):\n",
    "\n",
    "    i = 1\n",
    "    cols = []\n",
    "        \n",
    "    if first_column == True:\n",
    "        \n",
    "        while i <= (len(dataset.columns)-1):\n",
    "            cols.append(column_name + str(i))\n",
    "            i=i+1\n",
    "        \n",
    "        cols.insert(0, first_column_name)\n",
    "    \n",
    "    else:\n",
    "        \n",
    "        while i <= (len(dataset.columns)):\n",
    "            cols.append(column_name + str(i))\n",
    "            i=i+1\n",
    "        \n",
    "    dataset.columns = cols"
   ]
  },
  {
   "cell_type": "markdown",
   "id": "b3a4470d",
   "metadata": {},
   "source": [
    "#####  goods_image"
   ]
  },
  {
   "cell_type": "code",
   "execution_count": 40,
   "id": "37c07dee",
   "metadata": {},
   "outputs": [],
   "source": [
    "# reducing the embeddings\n",
    "goods_image_reduced = pd.DataFrame(reducer.fit_transform(goods_image_embed))"
   ]
  },
  {
   "cell_type": "code",
   "execution_count": 41,
   "id": "1c2eda9b",
   "metadata": {},
   "outputs": [],
   "source": [
    "# joining the reduced embeddings with their corresponding ids\n",
    "goods_image_reduced = pd.DataFrame(goods_image_items, columns=['goods_depersanalised']).join(goods_image_reduced)"
   ]
  },
  {
   "cell_type": "code",
   "execution_count": 42,
   "id": "3aedb0b2",
   "metadata": {},
   "outputs": [],
   "source": [
    "# changing 'goods_depersanalised' column data type from str to int to be able\n",
    "# to merge the reduced embeddings with train_dataset on it\n",
    "\n",
    "goods_image_reduced['goods_depersanalised'] = goods_image_reduced['goods_depersanalised'].astype('int32')"
   ]
  },
  {
   "cell_type": "code",
   "execution_count": 43,
   "id": "755f65ad",
   "metadata": {},
   "outputs": [],
   "source": [
    "# changing column names to avoid future errors while merging with train_dataset\n",
    "change_name_columns(goods_image_reduced, 'goods_image_', first_column_name='goods_depersanalised', first_column=True)"
   ]
  },
  {
   "cell_type": "code",
   "execution_count": 44,
   "id": "256325ad",
   "metadata": {},
   "outputs": [],
   "source": [
    "# dropping duplicates\n",
    "goods_image_reduced = goods_image_reduced.drop_duplicates()\n",
    "goods_image_reduced = goods_image_reduced.drop_duplicates('goods_depersanalised')"
   ]
  },
  {
   "cell_type": "code",
   "execution_count": 45,
   "id": "e204398a",
   "metadata": {},
   "outputs": [],
   "source": [
    "# merging the reduced embeddings with the train_dataset\n",
    "train_dataset = train_dataset.merge(goods_image_reduced, how='left', on = 'goods_depersanalised')\n",
    "\n",
    "# test_dataset\n",
    "test_dataset = test_dataset.merge(goods_image_reduced, how='left', on = 'goods_depersanalised')"
   ]
  },
  {
   "cell_type": "markdown",
   "id": "97ce6ae0",
   "metadata": {},
   "source": [
    "##### goods_title"
   ]
  },
  {
   "cell_type": "code",
   "execution_count": 46,
   "id": "4cec812e",
   "metadata": {},
   "outputs": [],
   "source": [
    "# reducing the embeddings\n",
    "goods_title_reduced = pd.DataFrame(reducer.fit_transform(goods_title_embed))"
   ]
  },
  {
   "cell_type": "code",
   "execution_count": 47,
   "id": "da27a487",
   "metadata": {},
   "outputs": [],
   "source": [
    "# joining the reduced embeddings with their corresponding ids\n",
    "goods_title_reduced = pd.DataFrame(goods_title_items, columns=['goods_depersanalised']).join(goods_title_reduced)"
   ]
  },
  {
   "cell_type": "code",
   "execution_count": 48,
   "id": "afd9c656",
   "metadata": {},
   "outputs": [],
   "source": [
    "# changing 'goods_depersanalised' column data type from str to int to be able\n",
    "# to merge the reduced embeddings with train_dataset on it\n",
    "\n",
    "goods_title_reduced['goods_depersanalised'] = goods_title_reduced['goods_depersanalised'].astype('int32')"
   ]
  },
  {
   "cell_type": "code",
   "execution_count": 49,
   "id": "8c678d14",
   "metadata": {},
   "outputs": [],
   "source": [
    "# changing column names to avoid future errors while merging with train_dataset\n",
    "change_name_columns(goods_title_reduced, 'goods_title_', first_column_name='goods_depersanalised', first_column=True)"
   ]
  },
  {
   "cell_type": "code",
   "execution_count": 50,
   "id": "33b2722c",
   "metadata": {},
   "outputs": [],
   "source": [
    "# merging the reduced embeddings with the train_dataset\n",
    "train_dataset = train_dataset.merge(goods_title_reduced, how='left', on = 'goods_depersanalised')\n",
    "\n",
    "# test_dataset\n",
    "test_dataset = test_dataset.merge(goods_title_reduced, how='left', on = 'goods_depersanalised')\n"
   ]
  },
  {
   "cell_type": "markdown",
   "id": "bc8d6b78",
   "metadata": {},
   "source": [
    "##### offer_image"
   ]
  },
  {
   "cell_type": "code",
   "execution_count": 51,
   "id": "64ed6b0a",
   "metadata": {},
   "outputs": [],
   "source": [
    "# reducing the embeddings\n",
    "offer_image_reduced = pd.DataFrame(reducer.fit_transform(offer_image_embed))"
   ]
  },
  {
   "cell_type": "code",
   "execution_count": 52,
   "id": "edc1d75c",
   "metadata": {},
   "outputs": [],
   "source": [
    "# joining the reduced embeddings with their corresponding ids\n",
    "offer_image_reduced = pd.DataFrame(offer_image_items, columns=['offer_depersanalised']).join(offer_image_reduced)"
   ]
  },
  {
   "cell_type": "code",
   "execution_count": 53,
   "id": "5832e21b",
   "metadata": {},
   "outputs": [],
   "source": [
    "# changing 'goods_depersanalised' column data type from str to int to be able\n",
    "# to merge the reduced embeddings with train_dataset on it\n",
    "\n",
    "offer_image_reduced['offer_depersanalised'] = offer_image_reduced['offer_depersanalised'].astype('int32')"
   ]
  },
  {
   "cell_type": "code",
   "execution_count": 54,
   "id": "022453ee",
   "metadata": {},
   "outputs": [],
   "source": [
    "# changing column names to avoid future errors while merging with train_dataset\n",
    "change_name_columns(offer_image_reduced, 'offer_image_', first_column_name='offer_depersanalised', first_column=True)"
   ]
  },
  {
   "cell_type": "code",
   "execution_count": 55,
   "id": "9e326fbd",
   "metadata": {},
   "outputs": [],
   "source": [
    "offer_image_reduced = offer_image_reduced.drop_duplicates()\n",
    "offer_image_reduced = offer_image_reduced.drop_duplicates('offer_depersanalised')"
   ]
  },
  {
   "cell_type": "code",
   "execution_count": 56,
   "id": "acdaf2fa",
   "metadata": {},
   "outputs": [],
   "source": [
    "# merging the reduced embeddings with the train_dataset\n",
    "train_dataset = train_dataset.merge(offer_image_reduced, how='left', on = 'offer_depersanalised')\n",
    "\n",
    "# test_dataset\n",
    "test_dataset = test_dataset.merge(offer_image_reduced, how='left', on = 'offer_depersanalised')"
   ]
  },
  {
   "cell_type": "markdown",
   "id": "ee97862d",
   "metadata": {},
   "source": [
    "##### offer_title"
   ]
  },
  {
   "cell_type": "code",
   "execution_count": 57,
   "id": "86cae462",
   "metadata": {},
   "outputs": [],
   "source": [
    "# reducing the embeddings\n",
    "offer_title_reduced = pd.DataFrame(reducer.fit_transform(offer_title_embed))"
   ]
  },
  {
   "cell_type": "code",
   "execution_count": 58,
   "id": "22332bdf",
   "metadata": {},
   "outputs": [],
   "source": [
    "# joining the reduced embeddings with their corresponding ids\n",
    "offer_title_reduced = pd.DataFrame(offer_title_items, columns=['offer_depersanalised']).join(offer_title_reduced)"
   ]
  },
  {
   "cell_type": "code",
   "execution_count": 59,
   "id": "042b53ed",
   "metadata": {},
   "outputs": [],
   "source": [
    "# changing 'goods_depersanalised' column data type from str to int to be able\n",
    "# to merge the reduced embeddings with train_dataset on it\n",
    "\n",
    "offer_title_reduced['offer_depersanalised'] = offer_title_reduced['offer_depersanalised'].astype('int32')"
   ]
  },
  {
   "cell_type": "code",
   "execution_count": 60,
   "id": "84c48762",
   "metadata": {},
   "outputs": [],
   "source": [
    "# changing column names to avoid future errors while merging with train_dataset\n",
    "change_name_columns(offer_title_reduced, 'offer_title_', first_column_name='offer_depersanalised', first_column=True)"
   ]
  },
  {
   "cell_type": "code",
   "execution_count": 61,
   "id": "6584a282",
   "metadata": {},
   "outputs": [],
   "source": [
    "# merging the reduced embeddings with the train_dataset\n",
    "train_dataset = train_dataset.merge(offer_title_reduced, how='left', on = 'offer_depersanalised')\n",
    "\n",
    "# test_dataset\n",
    "test_dataset = test_dataset.merge(offer_title_reduced, how='left', on = 'offer_depersanalised')"
   ]
  },
  {
   "cell_type": "code",
   "execution_count": 62,
   "id": "125fff4d",
   "metadata": {},
   "outputs": [
    {
     "name": "stdout",
     "output_type": "stream",
     "text": [
      "<class 'pandas.core.frame.DataFrame'>\n",
      "Int64Index: 2518441 entries, 0 to 2518440\n",
      "Data columns (total 48 columns):\n",
      " #   Column                                Dtype  \n",
      "---  ------                                -----  \n",
      " 0   offer_depersanalised                  int64  \n",
      " 1   goods_depersanalised                  int64  \n",
      " 2   sum_length                            float64\n",
      " 3   attrs+title_score                     float64\n",
      " 4   offer_price                           float64\n",
      " 5   goods_price                           float64\n",
      " 6   target                                int64  \n",
      " 7   id                                    object \n",
      " 8   goods_category_id_3.0                 float64\n",
      " 9   goods_category_id_4.0                 float64\n",
      " 10  goods_category_id_5.0                 float64\n",
      " 11  goods_category_id_6.0                 float64\n",
      " 12  goods_category_id_7.0                 float64\n",
      " 13  goods_category_id_8.0                 float64\n",
      " 14  goods_category_id_9.0                 float64\n",
      " 15  goods_category_id_11.0                float64\n",
      " 16  goods_category_id_13.0                float64\n",
      " 17  goods_category_id_14.0                float64\n",
      " 18  goods_category_id_17.0                float64\n",
      " 19  goods_category_id_18.0                float64\n",
      " 20  goods_category_id_19.0                float64\n",
      " 21  goods_category_id_21.0                float64\n",
      " 22  goods_category_id_69.0                float64\n",
      " 23  goods_category_id_81.0                float64\n",
      " 24  goods_category_id_82.0                float64\n",
      " 25  goods_category_id_83.0                float64\n",
      " 26  goods_category_id_99.0                float64\n",
      " 27  goods_category_id_2463684633817211.0  float64\n",
      " 28  goods_image_1                         float32\n",
      " 29  goods_image_2                         float32\n",
      " 30  goods_image_3                         float32\n",
      " 31  goods_image_4                         float32\n",
      " 32  goods_image_5                         float32\n",
      " 33  goods_title_1                         float64\n",
      " 34  goods_title_2                         float64\n",
      " 35  goods_title_3                         float64\n",
      " 36  goods_title_4                         float64\n",
      " 37  goods_title_5                         float64\n",
      " 38  offer_image_1                         float32\n",
      " 39  offer_image_2                         float32\n",
      " 40  offer_image_3                         float32\n",
      " 41  offer_image_4                         float32\n",
      " 42  offer_image_5                         float32\n",
      " 43  offer_title_1                         float64\n",
      " 44  offer_title_2                         float64\n",
      " 45  offer_title_3                         float64\n",
      " 46  offer_title_4                         float64\n",
      " 47  offer_title_5                         float64\n",
      "dtypes: float32(10), float64(34), int64(3), object(1)\n",
      "memory usage: 845.4+ MB\n"
     ]
    }
   ],
   "source": [
    "train_dataset.info()"
   ]
  },
  {
   "cell_type": "markdown",
   "id": "85e92f93",
   "metadata": {},
   "source": [
    "### Creating a dictionary to join the embeddings to their ids"
   ]
  },
  {
   "cell_type": "code",
   "execution_count": 63,
   "id": "ee278113",
   "metadata": {},
   "outputs": [],
   "source": [
    "goods_id2image_embed = {int(k):v for k,v in zip(goods_image_items,goods_image_embed)}\n",
    "goods_id2title_embed = {int(k):v for k,v in zip(goods_title_items,goods_title_embed)}\n",
    "\n",
    "offer_id2image_embed = {int(k):v for k,v in zip(offer_image_items,offer_image_embed)}\n",
    "offer_id2title_embed = {int(k):v for k,v in zip(offer_title_items,offer_title_embed)}"
   ]
  },
  {
   "cell_type": "markdown",
   "id": "668faca6",
   "metadata": {},
   "source": [
    "### The embeddings are too large to directly fit them into a ML model. We'll create new features that will represent the embeddings: "
   ]
  },
  {
   "cell_type": "markdown",
   "id": "5eed8d4f",
   "metadata": {},
   "source": [
    "#### Train Dataset"
   ]
  },
  {
   "cell_type": "code",
   "execution_count": 64,
   "id": "0a802186",
   "metadata": {},
   "outputs": [
    {
     "name": "stderr",
     "output_type": "stream",
     "text": [
      "2518441it [00:37, 66801.36it/s]\n"
     ]
    }
   ],
   "source": [
    "# images\n",
    "img_cos = [] # cosine distance between the embedding vectors\n",
    "img_l1 = [] # manhattan distance\n",
    "img_l2 = [] # euclidean distance\n",
    "img_canb = [] # canberra distance\n",
    "\n",
    "# titles\n",
    "tit_cos = [] # cosine distance between the embedding vectors\n",
    "tit_l1 = [] # manhattan distance\n",
    "tit_l2 = [] # euclidean distance\n",
    "tit_canb = [] # canberra distance\n",
    "\n",
    "for offer_id, goods_id in tqdm(zip(train_dataset['offer_depersanalised'], train_dataset['goods_depersanalised'])):\n",
    "    try:\n",
    "        offer_title_embed = offer_id2title_embed[offer_id]\n",
    "        offer_image_embed = offer_id2image_embed[offer_id]\n",
    "\n",
    "        goods_title_embed = goods_id2title_embed[goods_id]\n",
    "        goods_image_embed = goods_id2image_embed[goods_id]\n",
    "\n",
    "        #features based on image embeddings\n",
    "        images_cosine = np.inner(offer_image_embed, goods_image_embed)\n",
    "        images_l2 = np.linalg.norm(offer_image_embed-goods_image_embed)\n",
    "        images_l1 = np.linalg.norm(offer_image_embed-goods_image_embed, ord=1)\n",
    "        images_canb = np.sum(np.abs(offer_image_embed-goods_image_embed) / (np.abs(offer_image_embed)+np.abs(goods_image_embed)))\n",
    "\n",
    "        #features based on title embeddings\n",
    "        titles_cosine = np.inner(offer_title_embed, goods_title_embed)\n",
    "        titles_l2= np.linalg.norm(offer_title_embed-goods_title_embed)\n",
    "        titles_l1 = np.linalg.norm(offer_title_embed-goods_title_embed, ord=1)\n",
    "        titles_canb = np.sum(np.abs(offer_title_embed-goods_title_embed) / (np.abs(offer_title_embed)+np.abs(goods_title_embed)))\n",
    "\n",
    "        img_cos.append(images_cosine)\n",
    "        img_l1.append(images_l1)\n",
    "        img_l2.append(images_l2)\n",
    "        img_canb.append(images_canb)\n",
    "        \n",
    "        tit_cos.append(titles_cosine)\n",
    "        tit_l1.append(titles_l1)\n",
    "        tit_l2.append(titles_l2)\n",
    "        tit_canb.append(titles_canb)\n",
    "     \n",
    "        \n",
    "\n",
    "    except KeyError:\n",
    "        img_cos.append(np.NaN)\n",
    "        img_l1.append(np.NaN)\n",
    "        img_l2.append(np.NaN)\n",
    "        img_canb.append(np.NaN)\n",
    "        tit_cos.append(np.NaN)\n",
    "        tit_l1.append(np.NaN)\n",
    "        tit_l2.append(np.NaN)\n",
    "        tit_canb.append(np.NaN)"
   ]
  },
  {
   "cell_type": "markdown",
   "id": "2b76c511",
   "metadata": {},
   "source": [
    "### Adding the new features to train_dataset"
   ]
  },
  {
   "cell_type": "code",
   "execution_count": 65,
   "id": "56a39c8d",
   "metadata": {},
   "outputs": [],
   "source": [
    "train_dataset['img_cos'] = img_cos\n",
    "train_dataset['img_l1'] = img_l1\n",
    "train_dataset['img_l2'] = img_l2\n",
    "train_dataset['img_canb'] = img_canb\n",
    "\n",
    "train_dataset['tit_cos'] = tit_cos\n",
    "train_dataset['tit_l1'] = tit_l1\n",
    "train_dataset['tit_l2'] = tit_l2\n",
    "train_dataset['tit_canb'] = tit_canb"
   ]
  },
  {
   "cell_type": "code",
   "execution_count": 66,
   "id": "fee3cb2f",
   "metadata": {},
   "outputs": [
    {
     "data": {
      "text/html": [
       "<div>\n",
       "<style scoped>\n",
       "    .dataframe tbody tr th:only-of-type {\n",
       "        vertical-align: middle;\n",
       "    }\n",
       "\n",
       "    .dataframe tbody tr th {\n",
       "        vertical-align: top;\n",
       "    }\n",
       "\n",
       "    .dataframe thead th {\n",
       "        text-align: right;\n",
       "    }\n",
       "</style>\n",
       "<table border=\"1\" class=\"dataframe\">\n",
       "  <thead>\n",
       "    <tr style=\"text-align: right;\">\n",
       "      <th></th>\n",
       "      <th>offer_depersanalised</th>\n",
       "      <th>goods_depersanalised</th>\n",
       "      <th>sum_length</th>\n",
       "      <th>attrs+title_score</th>\n",
       "      <th>offer_price</th>\n",
       "      <th>goods_price</th>\n",
       "      <th>target</th>\n",
       "      <th>id</th>\n",
       "      <th>goods_category_id_3.0</th>\n",
       "      <th>goods_category_id_4.0</th>\n",
       "      <th>...</th>\n",
       "      <th>offer_title_4</th>\n",
       "      <th>offer_title_5</th>\n",
       "      <th>img_cos</th>\n",
       "      <th>img_l1</th>\n",
       "      <th>img_l2</th>\n",
       "      <th>img_canb</th>\n",
       "      <th>tit_cos</th>\n",
       "      <th>tit_l1</th>\n",
       "      <th>tit_l2</th>\n",
       "      <th>tit_canb</th>\n",
       "    </tr>\n",
       "  </thead>\n",
       "  <tbody>\n",
       "    <tr>\n",
       "      <th>0</th>\n",
       "      <td>295140</td>\n",
       "      <td>1396793</td>\n",
       "      <td>-1.289479</td>\n",
       "      <td>-0.383736</td>\n",
       "      <td>-0.097729</td>\n",
       "      <td>-0.005516</td>\n",
       "      <td>0</td>\n",
       "      <td>295140$1396793</td>\n",
       "      <td>0.0</td>\n",
       "      <td>0.0</td>\n",
       "      <td>...</td>\n",
       "      <td>0.117788</td>\n",
       "      <td>-0.096843</td>\n",
       "      <td>NaN</td>\n",
       "      <td>NaN</td>\n",
       "      <td>NaN</td>\n",
       "      <td>NaN</td>\n",
       "      <td>NaN</td>\n",
       "      <td>NaN</td>\n",
       "      <td>NaN</td>\n",
       "      <td>NaN</td>\n",
       "    </tr>\n",
       "    <tr>\n",
       "      <th>1</th>\n",
       "      <td>65291</td>\n",
       "      <td>1396586</td>\n",
       "      <td>-1.287134</td>\n",
       "      <td>-0.296211</td>\n",
       "      <td>-0.097767</td>\n",
       "      <td>-0.005516</td>\n",
       "      <td>0</td>\n",
       "      <td>65291$1396586</td>\n",
       "      <td>0.0</td>\n",
       "      <td>0.0</td>\n",
       "      <td>...</td>\n",
       "      <td>0.182252</td>\n",
       "      <td>0.126790</td>\n",
       "      <td>NaN</td>\n",
       "      <td>NaN</td>\n",
       "      <td>NaN</td>\n",
       "      <td>NaN</td>\n",
       "      <td>NaN</td>\n",
       "      <td>NaN</td>\n",
       "      <td>NaN</td>\n",
       "      <td>NaN</td>\n",
       "    </tr>\n",
       "  </tbody>\n",
       "</table>\n",
       "<p>2 rows × 56 columns</p>\n",
       "</div>"
      ],
      "text/plain": [
       "   offer_depersanalised  goods_depersanalised  sum_length  attrs+title_score  \\\n",
       "0                295140               1396793   -1.289479          -0.383736   \n",
       "1                 65291               1396586   -1.287134          -0.296211   \n",
       "\n",
       "   offer_price  goods_price  target              id  goods_category_id_3.0  \\\n",
       "0    -0.097729    -0.005516       0  295140$1396793                    0.0   \n",
       "1    -0.097767    -0.005516       0   65291$1396586                    0.0   \n",
       "\n",
       "   goods_category_id_4.0  ...  offer_title_4  offer_title_5  img_cos  img_l1  \\\n",
       "0                    0.0  ...       0.117788      -0.096843      NaN     NaN   \n",
       "1                    0.0  ...       0.182252       0.126790      NaN     NaN   \n",
       "\n",
       "   img_l2  img_canb  tit_cos  tit_l1  tit_l2  tit_canb  \n",
       "0     NaN       NaN      NaN     NaN     NaN       NaN  \n",
       "1     NaN       NaN      NaN     NaN     NaN       NaN  \n",
       "\n",
       "[2 rows x 56 columns]"
      ]
     },
     "execution_count": 66,
     "metadata": {},
     "output_type": "execute_result"
    }
   ],
   "source": [
    "train_dataset.head(2)"
   ]
  },
  {
   "cell_type": "code",
   "execution_count": 67,
   "id": "9f06900b",
   "metadata": {},
   "outputs": [
    {
     "data": {
      "image/png": "[encoded data removed]",
      "text/plain": [
       "<Figure size 1900x600 with 1 Axes>"
      ]
     },
     "metadata": {},
     "output_type": "display_data"
    }
   ],
   "source": [
    "gaps(train_dataset)"
   ]
  },
  {
   "cell_type": "markdown",
   "id": "6bf7dad3",
   "metadata": {},
   "source": [
    "#### Test Dataset"
   ]
  },
  {
   "cell_type": "code",
   "execution_count": 68,
   "id": "e55d75ca",
   "metadata": {},
   "outputs": [
    {
     "name": "stderr",
     "output_type": "stream",
     "text": [
      "363835it [00:05, 68092.80it/s] \n"
     ]
    }
   ],
   "source": [
    "# images\n",
    "img_cos = [] # cosine distance between the embedding vectors\n",
    "img_l1 = [] # manhattan distance\n",
    "img_l2 = [] # euclidean distance\n",
    "img_canb = [] # canberra distance\n",
    "\n",
    "# titles\n",
    "tit_cos = [] # cosine distance between the embedding vectors\n",
    "tit_l1 = [] # manhattan distance\n",
    "tit_l2 = [] # euclidean distance\n",
    "tit_canb = [] # canberra distance\n",
    "\n",
    "for offer_id, goods_id in tqdm(zip(test_dataset['offer_depersanalised'], test_dataset['goods_depersanalised'])):\n",
    "    try:\n",
    "        offer_title_embed = offer_id2title_embed[offer_id]\n",
    "        offer_image_embed = offer_id2image_embed[offer_id]\n",
    "\n",
    "        goods_title_embed = goods_id2title_embed[goods_id]\n",
    "        goods_image_embed = goods_id2image_embed[goods_id]\n",
    "\n",
    "        #features based on image embeddings\n",
    "        images_cosine = np.inner(offer_image_embed, goods_image_embed)\n",
    "        images_l2 = np.linalg.norm(offer_image_embed-goods_image_embed)\n",
    "        images_l1 = np.linalg.norm(offer_image_embed-goods_image_embed, ord=1)\n",
    "        images_canb = np.sum(np.abs(offer_image_embed-goods_image_embed) / (np.abs(offer_image_embed)+np.abs(goods_image_embed)))\n",
    "\n",
    "        #features based on title embeddings\n",
    "        titles_cosine = np.inner(offer_title_embed, goods_title_embed)\n",
    "        titles_l2= np.linalg.norm(offer_title_embed-goods_title_embed)\n",
    "        titles_l1 = np.linalg.norm(offer_title_embed-goods_title_embed, ord=1)\n",
    "        titles_canb = np.sum(np.abs(offer_title_embed-goods_title_embed) / (np.abs(offer_title_embed)+np.abs(goods_title_embed)))\n",
    "\n",
    "        img_cos.append(images_cosine)\n",
    "        img_l1.append(images_l1)\n",
    "        img_l2.append(images_l2)\n",
    "        img_canb.append(images_canb)\n",
    "        \n",
    "        tit_cos.append(titles_cosine)\n",
    "        tit_l1.append(titles_l1)\n",
    "        tit_l2.append(titles_l2)\n",
    "        tit_canb.append(titles_canb)\n",
    "     \n",
    "        \n",
    "\n",
    "    except KeyError:\n",
    "        img_cos.append(np.NaN)\n",
    "        img_l1.append(np.NaN)\n",
    "        img_l2.append(np.NaN)\n",
    "        img_canb.append(np.NaN)\n",
    "        tit_cos.append(np.NaN)\n",
    "        tit_l1.append(np.NaN)\n",
    "        tit_l2.append(np.NaN)\n",
    "        tit_canb.append(np.NaN)"
   ]
  },
  {
   "cell_type": "markdown",
   "id": "7afa6b01",
   "metadata": {},
   "source": [
    "### Adding the new features to test_dataset"
   ]
  },
  {
   "cell_type": "code",
   "execution_count": 69,
   "id": "cfd40353",
   "metadata": {},
   "outputs": [],
   "source": [
    "test_dataset['img_cos'] = img_cos\n",
    "test_dataset['img_l1'] = img_l1\n",
    "test_dataset['img_l2'] = img_l2\n",
    "test_dataset['img_canb'] = img_canb\n",
    "\n",
    "test_dataset['tit_cos'] = tit_cos\n",
    "test_dataset['tit_l1'] = tit_l1\n",
    "test_dataset['tit_l2'] = tit_l2\n",
    "test_dataset['tit_canb'] = tit_canb"
   ]
  },
  {
   "cell_type": "code",
   "execution_count": 70,
   "id": "09553016",
   "metadata": {},
   "outputs": [
    {
     "data": {
      "text/html": [
       "<div>\n",
       "<style scoped>\n",
       "    .dataframe tbody tr th:only-of-type {\n",
       "        vertical-align: middle;\n",
       "    }\n",
       "\n",
       "    .dataframe tbody tr th {\n",
       "        vertical-align: top;\n",
       "    }\n",
       "\n",
       "    .dataframe thead th {\n",
       "        text-align: right;\n",
       "    }\n",
       "</style>\n",
       "<table border=\"1\" class=\"dataframe\">\n",
       "  <thead>\n",
       "    <tr style=\"text-align: right;\">\n",
       "      <th></th>\n",
       "      <th>offer_depersanalised</th>\n",
       "      <th>goods_depersanalised</th>\n",
       "      <th>sum_length</th>\n",
       "      <th>attrs+title_score</th>\n",
       "      <th>offer_price</th>\n",
       "      <th>goods_price</th>\n",
       "      <th>id</th>\n",
       "      <th>goods_category_id_3.0</th>\n",
       "      <th>goods_category_id_4.0</th>\n",
       "      <th>goods_category_id_5.0</th>\n",
       "      <th>...</th>\n",
       "      <th>offer_title_4</th>\n",
       "      <th>offer_title_5</th>\n",
       "      <th>img_cos</th>\n",
       "      <th>img_l1</th>\n",
       "      <th>img_l2</th>\n",
       "      <th>img_canb</th>\n",
       "      <th>tit_cos</th>\n",
       "      <th>tit_l1</th>\n",
       "      <th>tit_l2</th>\n",
       "      <th>tit_canb</th>\n",
       "    </tr>\n",
       "  </thead>\n",
       "  <tbody>\n",
       "    <tr>\n",
       "      <th>0</th>\n",
       "      <td>64819</td>\n",
       "      <td>1396468</td>\n",
       "      <td>-1.287134</td>\n",
       "      <td>-0.309135</td>\n",
       "      <td>-0.097802</td>\n",
       "      <td>-0.005516</td>\n",
       "      <td>64819$1396468</td>\n",
       "      <td>0.0</td>\n",
       "      <td>0.0</td>\n",
       "      <td>0.0</td>\n",
       "      <td>...</td>\n",
       "      <td>0.055367</td>\n",
       "      <td>-0.041248</td>\n",
       "      <td>NaN</td>\n",
       "      <td>NaN</td>\n",
       "      <td>NaN</td>\n",
       "      <td>NaN</td>\n",
       "      <td>NaN</td>\n",
       "      <td>NaN</td>\n",
       "      <td>NaN</td>\n",
       "      <td>NaN</td>\n",
       "    </tr>\n",
       "    <tr>\n",
       "      <th>1</th>\n",
       "      <td>64819</td>\n",
       "      <td>1396235</td>\n",
       "      <td>-1.287134</td>\n",
       "      <td>-0.309135</td>\n",
       "      <td>-0.097802</td>\n",
       "      <td>-0.005516</td>\n",
       "      <td>64819$1396235</td>\n",
       "      <td>0.0</td>\n",
       "      <td>0.0</td>\n",
       "      <td>0.0</td>\n",
       "      <td>...</td>\n",
       "      <td>0.055367</td>\n",
       "      <td>-0.041248</td>\n",
       "      <td>NaN</td>\n",
       "      <td>NaN</td>\n",
       "      <td>NaN</td>\n",
       "      <td>NaN</td>\n",
       "      <td>NaN</td>\n",
       "      <td>NaN</td>\n",
       "      <td>NaN</td>\n",
       "      <td>NaN</td>\n",
       "    </tr>\n",
       "  </tbody>\n",
       "</table>\n",
       "<p>2 rows × 55 columns</p>\n",
       "</div>"
      ],
      "text/plain": [
       "   offer_depersanalised  goods_depersanalised  sum_length  attrs+title_score  \\\n",
       "0                 64819               1396468   -1.287134          -0.309135   \n",
       "1                 64819               1396235   -1.287134          -0.309135   \n",
       "\n",
       "   offer_price  goods_price             id  goods_category_id_3.0  \\\n",
       "0    -0.097802    -0.005516  64819$1396468                    0.0   \n",
       "1    -0.097802    -0.005516  64819$1396235                    0.0   \n",
       "\n",
       "   goods_category_id_4.0  goods_category_id_5.0  ...  offer_title_4  \\\n",
       "0                    0.0                    0.0  ...       0.055367   \n",
       "1                    0.0                    0.0  ...       0.055367   \n",
       "\n",
       "   offer_title_5  img_cos  img_l1  img_l2  img_canb  tit_cos  tit_l1  tit_l2  \\\n",
       "0      -0.041248      NaN     NaN     NaN       NaN      NaN     NaN     NaN   \n",
       "1      -0.041248      NaN     NaN     NaN       NaN      NaN     NaN     NaN   \n",
       "\n",
       "   tit_canb  \n",
       "0       NaN  \n",
       "1       NaN  \n",
       "\n",
       "[2 rows x 55 columns]"
      ]
     },
     "execution_count": 70,
     "metadata": {},
     "output_type": "execute_result"
    }
   ],
   "source": [
    "test_dataset.head(2)"
   ]
  },
  {
   "cell_type": "code",
   "execution_count": 71,
   "id": "8681bde5",
   "metadata": {},
   "outputs": [
    {
     "data": {
      "image/png": "[encoded data removed]",
      "text/plain": [
       "<Figure size 1900x600 with 1 Axes>"
      ]
     },
     "metadata": {},
     "output_type": "display_data"
    }
   ],
   "source": [
    "gaps(test_dataset)"
   ]
  },
  {
   "cell_type": "markdown",
   "id": "b344cdfe",
   "metadata": {},
   "source": [
    "## A couple of additional features (differences between the offer and goods prices)"
   ]
  },
  {
   "cell_type": "code",
   "execution_count": 72,
   "id": "86206c7d",
   "metadata": {},
   "outputs": [],
   "source": [
    "# train\n",
    "train_dataset['price_abs_diff'] = train_dataset.apply(lambda row: abs(row['offer_price']-row['goods_price']), axis=1)\n",
    "train_dataset['price_diff'] = train_dataset.apply(lambda row: row['offer_price']/row['goods_price'] if row['goods_price'] !=0 else 9999, axis=1)\n",
    "\n",
    "# test\n",
    "test_dataset['price_abs_diff'] = test_dataset.apply(lambda row: abs(row['offer_price']-row['goods_price']), axis=1)\n",
    "test_dataset['price_diff'] = test_dataset.apply(lambda row: row['offer_price']/row['goods_price'] if row['goods_price'] !=0 else 9999, axis=1)"
   ]
  },
  {
   "cell_type": "markdown",
   "id": "d2c9f7e2",
   "metadata": {},
   "source": [
    "### Splitting train_dataset into training and validation samples "
   ]
  },
  {
   "cell_type": "code",
   "execution_count": 73,
   "id": "3da3e68e",
   "metadata": {},
   "outputs": [],
   "source": [
    "train_x, valid_x, train_y, valid_y = train_test_split(train_dataset.drop(['offer_depersanalised',\n",
    "                                                                          'goods_depersanalised',\n",
    "                                                                          'target',\n",
    "                                                                          'id'], axis = 1),\n",
    "                                                                          \n",
    "                                                      \n",
    "                                                                train_dataset['target'],\n",
    "                                                      \n",
    "                                                                test_size=0.15,\n",
    "                                                      \n",
    "                                                                random_state=42)"
   ]
  },
  {
   "cell_type": "markdown",
   "id": "61723f65",
   "metadata": {},
   "source": [
    "# LightGBM (Base Model 1)"
   ]
  },
  {
   "cell_type": "code",
   "execution_count": 74,
   "id": "465eab07",
   "metadata": {},
   "outputs": [
    {
     "name": "stderr",
     "output_type": "stream",
     "text": [
      "C:\\Users\\exeve\\anaconda3\\Lib\\site-packages\\lightgbm\\engine.py:172: UserWarning: Found `num_iterations` in params. Will use it instead of argument\n",
      "  _log_warning(f\"Found `{alias}` in params. Will use it instead of argument\")\n"
     ]
    },
    {
     "name": "stdout",
     "output_type": "stream",
     "text": [
      "[LightGBM] [Info] Number of positive: 250487, number of negative: 1890187\n",
      "[LightGBM] [Info] Auto-choosing col-wise multi-threading, the overhead of testing was 0.701280 seconds.\n",
      "You can set `force_col_wise=true` to remove the overhead.\n",
      "[LightGBM] [Info] Total Bins 8710\n",
      "[LightGBM] [Info] Number of data points in the train set: 2140674, number of used features: 54\n",
      "[LightGBM] [Info] [binary:BoostFromScore]: pavg=0.117013 -> initscore=-2.021024\n",
      "[LightGBM] [Info] Start training from score -2.021024\n",
      "F1: 0.9206181945907973\n",
      "CPU times: total: 13min 33s\n",
      "Wall time: 4min 56s\n"
     ]
    }
   ],
   "source": [
    "%%time\n",
    "\n",
    "lgbm = LGBMClassifier(random_state = 42,\n",
    "                      objective = 'binary',\n",
    "                      num_iterations = 1500)                   \n",
    "                \n",
    "\n",
    "lgbm.fit(train_x, train_y)\n",
    "lgbm_pred = lgbm.predict(valid_x)\n",
    "lgbm_error = f1_score(lgbm_pred, valid_y)\n",
    "print('F1:', lgbm_error)"
   ]
  },
  {
   "cell_type": "markdown",
   "id": "063fec6d",
   "metadata": {},
   "source": [
    "# CatBoost (Base Model 2)"
   ]
  },
  {
   "cell_type": "code",
   "execution_count": 75,
   "id": "2642939a",
   "metadata": {},
   "outputs": [
    {
     "name": "stdout",
     "output_type": "stream",
     "text": [
      "Learning rate set to 0.18776\n",
      "0:\tlearn: 0.9085277\ttotal: 604ms\tremaining: 15m 6s\n",
      "200:\tlearn: 0.9232890\ttotal: 1m 18s\tremaining: 8m 27s\n",
      "400:\tlearn: 0.9268685\ttotal: 2m 35s\tremaining: 7m 5s\n",
      "600:\tlearn: 0.9295677\ttotal: 3m 53s\tremaining: 5m 48s\n",
      "800:\tlearn: 0.9319486\ttotal: 5m 10s\tremaining: 4m 30s\n",
      "1000:\tlearn: 0.9339278\ttotal: 6m 27s\tremaining: 3m 13s\n",
      "1200:\tlearn: 0.9358708\ttotal: 7m 43s\tremaining: 1m 55s\n",
      "1400:\tlearn: 0.9376547\ttotal: 8m 58s\tremaining: 38.1s\n",
      "1499:\tlearn: 0.9386466\ttotal: 9m 36s\tremaining: 0us\n",
      "F1: 0.9236946019280404\n",
      "CPU times: total: 30min 1s\n",
      "Wall time: 9min 39s\n"
     ]
    }
   ],
   "source": [
    "%%time\n",
    "\n",
    "cat = CatBoostClassifier(\n",
    "    verbose = 200,\n",
    "    iterations = 1500,\n",
    "    eval_metric = 'F1',\n",
    "    loss_function = 'Logloss',\n",
    "    random_state = 42)\n",
    "\n",
    "cat.fit(train_x, train_y)\n",
    "cat_pred = cat.predict(valid_x)\n",
    "\n",
    "cat_error = f1_score(cat_pred, valid_y)\n",
    "print('F1:', cat_error)"
   ]
  },
  {
   "cell_type": "markdown",
   "id": "f4d969b6",
   "metadata": {},
   "source": [
    "# Neural Network Model (Base Model 3)"
   ]
  },
  {
   "cell_type": "code",
   "execution_count": 76,
   "id": "cb753155",
   "metadata": {},
   "outputs": [],
   "source": [
    "train_x_filled = train_x.fillna(0)\n",
    "valid_x_filled = valid_x.fillna(0)"
   ]
  },
  {
   "cell_type": "markdown",
   "id": "2aefd21a",
   "metadata": {},
   "source": [
    "## Hyperparameters "
   ]
  },
  {
   "cell_type": "code",
   "execution_count": 77,
   "id": "b4e9bf16",
   "metadata": {},
   "outputs": [],
   "source": [
    "epochs = 11\n",
    "batch_size = 128\n",
    "learning_rate = 0.001"
   ]
  },
  {
   "cell_type": "markdown",
   "id": "c5b112b6",
   "metadata": {},
   "source": [
    "## Loading data in batches\n",
    "The datasets size is too large for the NN to process it all at once. It's better to load the data in batches."
   ]
  },
  {
   "cell_type": "code",
   "execution_count": 78,
   "id": "c6e76a78",
   "metadata": {},
   "outputs": [],
   "source": [
    "class BinaryDataset(Dataset):\n",
    "    \n",
    "    def __init__(self, feature_array, target_array):\n",
    "        \n",
    "        self.feature_array = np.array(feature_array)      \n",
    "        self.target_array = np.array(target_array)\n",
    "        \n",
    "        \n",
    "        \n",
    "                                  \n",
    "    def __getitem__(self, index):\n",
    "        \n",
    "        x = torch.tensor(self.feature_array[index], dtype=torch.float)\n",
    "        y = torch.tensor(self.target_array[index], dtype=torch.float)\n",
    "                                    \n",
    "        return x,y\n",
    "    \n",
    "                                  \n",
    "    def __len__(self):\n",
    "        \n",
    "        return len(self.feature_array)"
   ]
  },
  {
   "cell_type": "code",
   "execution_count": 79,
   "id": "d5714c52",
   "metadata": {},
   "outputs": [],
   "source": [
    "class TestDataset(Dataset):\n",
    "    \n",
    "    def __init__(self, feature_array):\n",
    "        \n",
    "        self.feature_array = np.array(feature_array)      \n",
    "              \n",
    "                                  \n",
    "    def __getitem__(self, index):\n",
    "        \n",
    "        x = torch.tensor(self.feature_array[index], dtype=torch.float)\n",
    "      \n",
    "        return x\n",
    "    \n",
    "                                  \n",
    "    def __len__(self):\n",
    "        \n",
    "        return len(self.feature_array)"
   ]
  },
  {
   "cell_type": "code",
   "execution_count": 80,
   "id": "591fda35",
   "metadata": {},
   "outputs": [],
   "source": [
    "# mapping datasets\n",
    "\n",
    "# training and validation datasets\n",
    "train_dataset_nn = BinaryDataset(train_x_filled, train_y)\n",
    "val_dataset_nn = BinaryDataset(valid_x_filled, valid_y)\n",
    "\n",
    "\n",
    "# testing dataset\n",
    "test_dataset_pred = test_dataset.drop(['offer_depersanalised',\n",
    "                      'goods_depersanalised',\n",
    "     \n",
    "                      'id'], axis = 1)\n",
    "\n",
    "test_dataset_pred = test_dataset_pred.fillna(0)\n",
    "\n",
    "test_dataset_nn = TestDataset(test_dataset_pred)"
   ]
  },
  {
   "cell_type": "code",
   "execution_count": 81,
   "id": "e49818d2",
   "metadata": {},
   "outputs": [],
   "source": [
    "# creating loaders to load the mapped datasets in batches\n",
    "train_loader_nn = DataLoader(dataset=train_dataset_nn, batch_size = batch_size, shuffle = True)\n",
    "val_loader_nn = DataLoader(dataset=val_dataset_nn, batch_size = batch_size, shuffle = False)\n",
    "test_loader_nn = DataLoader(dataset=test_dataset_nn, batch_size = batch_size, shuffle = False)"
   ]
  },
  {
   "cell_type": "markdown",
   "id": "ae2d3598",
   "metadata": {},
   "source": [
    "### A sample of the data"
   ]
  },
  {
   "cell_type": "code",
   "execution_count": 82,
   "id": "ef7c7cff",
   "metadata": {},
   "outputs": [
    {
     "name": "stdout",
     "output_type": "stream",
     "text": [
      "Feature array:\n",
      "\n",
      " tensor([[ 1.4720,  1.2191, -0.0954,  ...,  0.0000,  0.0929, 37.7367],\n",
      "        [ 0.9563, -0.4827, -0.0959,  ...,  0.0000,  0.0931, 34.0273],\n",
      "        [ 0.5038,  1.4757, -0.0973,  ...,  0.0000,  0.0923, 19.7461],\n",
      "        ...,\n",
      "        [-0.9121, -0.4867, -0.0974,  ...,  0.0000,  0.0920, 17.8922],\n",
      "        [-0.1080, -0.4867, -0.0943,  ...,  0.0000,  0.0891, 18.2607],\n",
      "        [ 0.6257, -0.4648, -0.0975,  ...,  0.0000,  0.0921, 17.8413]])\n",
      "\n",
      "Target array:\n",
      "\n",
      " tensor([0., 0., 1., 1., 0., 0., 1., 0., 0., 0., 0., 0., 0., 0., 0., 0., 0., 1.,\n",
      "        0., 0., 0., 1., 0., 0., 0., 1., 0., 0., 0., 1., 0., 0., 0., 1., 0., 1.,\n",
      "        0., 0., 0., 1., 0., 0., 0., 0., 0., 0., 0., 1., 0., 0., 0., 1., 0., 0.,\n",
      "        0., 1., 0., 0., 0., 1., 0., 0., 0., 0., 0., 0., 0., 0., 0., 0., 0., 0.,\n",
      "        0., 0., 0., 0., 0., 1., 0., 0., 0., 0., 0., 0., 0., 0., 0., 1., 0., 0.,\n",
      "        0., 0., 0., 0., 0., 0., 0., 0., 1., 0., 0., 1., 0., 0., 1., 0., 0., 1.,\n",
      "        0., 0., 0., 0., 0., 0., 0., 0., 0., 0., 1., 0., 0., 0., 0., 0., 0., 0.,\n",
      "        0., 0.])\n"
     ]
    }
   ],
   "source": [
    "sample = iter(train_loader_nn)\n",
    "\n",
    "feature, target = next(sample)\n",
    "\n",
    "print('Feature array:\\n\\n', feature)\n",
    "print('')\n",
    "print('Target array:\\n\\n', target)\n"
   ]
  },
  {
   "cell_type": "markdown",
   "id": "fe689813",
   "metadata": {},
   "source": [
    "## Model"
   ]
  },
  {
   "cell_type": "code",
   "execution_count": 83,
   "id": "b3d61221",
   "metadata": {},
   "outputs": [],
   "source": [
    "class LinearModel (nn.Module):\n",
    "    \n",
    "    def __init__(self, input_size):\n",
    "        super(LinearModel, self).__init__()\n",
    "        \n",
    "        self.linear_stack = nn.Sequential(\n",
    "            \n",
    "            nn.Linear(input_size, 512), #1\n",
    "            nn.ReLU(),\n",
    "            nn.Linear(512, 1028),  #2\n",
    "            nn.Dropout(p=0.4),\n",
    "            nn.Linear(1028, 2056),  #3\n",
    "            nn.Dropout(p=0.4),\n",
    "            nn.Linear(2056, 1028),  #4\n",
    "            nn.Dropout(p=0.4),\n",
    "            nn.ReLU(),\n",
    "            nn.Linear(1028, 512),  #5\n",
    "            nn.Dropout(p=0.4),\n",
    "            nn.ReLU(),\n",
    "            nn.Linear(512, 256),  #6\n",
    "            nn.Dropout(p=0.4),\n",
    "            nn.ReLU(),\n",
    "            nn.Linear(256, 1)  #7\n",
    "        \n",
    "        )\n",
    "        \n",
    "    def forward(self, x):      \n",
    "        \n",
    "        output = self.linear_stack(x)\n",
    "        \n",
    "        return output"
   ]
  },
  {
   "cell_type": "markdown",
   "id": "1e3bae90",
   "metadata": {},
   "source": [
    "## Device settings"
   ]
  },
  {
   "cell_type": "code",
   "execution_count": 84,
   "id": "b2c84adc",
   "metadata": {},
   "outputs": [
    {
     "name": "stdout",
     "output_type": "stream",
     "text": [
      "Device: cpu\n"
     ]
    }
   ],
   "source": [
    "# cuda = use GPU ; cpu = use CPU\n",
    "device = torch.device('cuda' if torch.cuda.is_available() else 'cpu')\n",
    "print('Device:', device)"
   ]
  },
  {
   "cell_type": "markdown",
   "id": "2d9c4151",
   "metadata": {},
   "source": [
    "## Initialization of the model"
   ]
  },
  {
   "cell_type": "code",
   "execution_count": 85,
   "id": "85711a60",
   "metadata": {},
   "outputs": [],
   "source": [
    "NN = LinearModel(train_x_filled.shape[1]).to(device)"
   ]
  },
  {
   "cell_type": "markdown",
   "id": "faa1201c",
   "metadata": {},
   "source": [
    "## Loss and Optimizer"
   ]
  },
  {
   "cell_type": "code",
   "execution_count": 86,
   "id": "949ee8c2",
   "metadata": {},
   "outputs": [],
   "source": [
    "criterion = nn.BCEWithLogitsLoss() # Binary Cross Entropy loss + Sigmoid function\n",
    "optimizer = optim.Adam(NN.parameters(), lr = learning_rate, weight_decay = 0.01)\n",
    "\n",
    "# scheduler to adjust Adam after each epoch in full training\n",
    "scheduler = optim.lr_scheduler.StepLR(optimizer, step_size=1, gamma = 0.9) "
   ]
  },
  {
   "cell_type": "markdown",
   "id": "6b4e4cc4",
   "metadata": {},
   "source": [
    "## Training 1 epoch"
   ]
  },
  {
   "cell_type": "code",
   "execution_count": 87,
   "id": "fa797b3a",
   "metadata": {},
   "outputs": [],
   "source": [
    "def train_epoch(model, loader, optimizer):\n",
    "    \n",
    "    model.train()\n",
    "    steps = len(loader)\n",
    "    correct = 0\n",
    "    train_losses = []\n",
    "    best_acc = - np.inf\n",
    "    best_weights = None\n",
    "\n",
    "    for batch_index, (x, target) in enumerate(loader): # loop over the batches\n",
    "\n",
    "        x = x.to(device)\n",
    "        target = target.to(device).unsqueeze(dim=1)\n",
    "\n",
    "        # forward\n",
    "        prediction = model(x)\n",
    "        loss = criterion(prediction, target)\n",
    "        train_losses.append(loss.item())\n",
    "        \n",
    "        # backwards\n",
    "        optimizer.zero_grad()\n",
    "        loss.backward()\n",
    "        optimizer.step()     \n",
    "\n",
    "        # print progress\n",
    "        if (batch_index + 1) % 1000 == 0:\n",
    "            print(f'step {batch_index + 1}/{steps}, loss = {loss.item():.4f}')\n",
    "            \n",
    "    return train_losses"
   ]
  },
  {
   "cell_type": "code",
   "execution_count": 88,
   "id": "d09d67a6",
   "metadata": {},
   "outputs": [
    {
     "name": "stdout",
     "output_type": "stream",
     "text": [
      "step 1000/16725, loss = 0.2730\n",
      "step 2000/16725, loss = 0.3965\n",
      "step 3000/16725, loss = 0.4435\n",
      "step 4000/16725, loss = 0.2789\n",
      "step 5000/16725, loss = 0.2266\n",
      "step 6000/16725, loss = 0.1874\n",
      "step 7000/16725, loss = 0.0952\n",
      "step 8000/16725, loss = 0.4460\n",
      "step 9000/16725, loss = 0.2170\n",
      "step 10000/16725, loss = 0.1488\n",
      "step 11000/16725, loss = 0.2149\n",
      "step 12000/16725, loss = 0.1429\n",
      "step 13000/16725, loss = 0.0735\n",
      "step 14000/16725, loss = 0.3401\n",
      "step 15000/16725, loss = 0.2223\n",
      "step 16000/16725, loss = 0.1431\n"
     ]
    },
    {
     "data": {
      "text/plain": [
       "[0.7502579689025879,\n",
       " 0.9917865991592407,\n",
       " 0.9480637907981873,\n",
       " 0.514981746673584,\n",
       " 1.4811232089996338,\n",
       " 0.5454698801040649,\n",
       " 0.4245165288448334,\n",
       " 0.26199668645858765,\n",
       " 0.34966841340065,\n",
       " 0.4765315353870392,\n",
       " 0.5017486214637756,\n",
       " 0.46849822998046875,\n",
       " 0.3849600553512573,\n",
       " 0.8620049357414246,\n",
       " 0.5776140689849854,\n",
       " 0.30935433506965637,\n",
       " 0.32905182242393494,\n",
       " 1.7959622144699097,\n",
       " 0.2883046269416809,\n",
       " 0.5329868793487549,\n",
       " 0.31195688247680664,\n",
       " 0.3012051284313202,\n",
       " 0.23654808104038239,\n",
       " 0.24115629494190216,\n",
       " 0.3442728519439697,\n",
       " 0.3002977669239044,\n",
       " 0.3982764184474945,\n",
       " 0.851039707660675,\n",
       " 0.29423826932907104,\n",
       " 0.14411787688732147,\n",
       " 0.2358684539794922,\n",
       " 0.2827605605125427,\n",
       " 0.2956520617008209,\n",
       " 0.30503061413764954,\n",
       " 0.29264184832572937,\n",
       " 0.16141022741794586,\n",
       " 0.23140200972557068,\n",
       " 0.8145159482955933,\n",
       " 0.178097665309906,\n",
       " 0.30006149411201477,\n",
       " 0.34108471870422363,\n",
       " 0.21483854949474335,\n",
       " 0.3641781508922577,\n",
       " 0.2430008500814438,\n",
       " 0.2645527422428131,\n",
       " 2.1097376346588135,\n",
       " 0.24503900110721588,\n",
       " 0.40974828600883484,\n",
       " 0.41373082995414734,\n",
       " 0.38586241006851196,\n",
       " 0.2988778054714203,\n",
       " 0.205438494682312,\n",
       " 7.810109615325928,\n",
       " 0.21897302567958832,\n",
       " 0.3066427707672119,\n",
       " 0.2666444480419159,\n",
       " 0.34083086252212524,\n",
       " 0.2691664695739746,\n",
       " 0.26394328474998474,\n",
       " 0.17929548025131226,\n",
       " 0.12663808465003967,\n",
       " 0.7633798122406006,\n",
       " 0.14167413115501404,\n",
       " 5.378203868865967,\n",
       " 0.40624889731407166,\n",
       " 0.47106847167015076,\n",
       " 0.45062243938446045,\n",
       " 0.48359543085098267,\n",
       " 0.5261892080307007,\n",
       " 0.4052056670188904,\n",
       " 0.6190168857574463,\n",
       " 0.3328500986099243,\n",
       " 0.28056472539901733,\n",
       " 0.3206661343574524,\n",
       " 0.21010315418243408,\n",
       " 0.26438266038894653,\n",
       " 0.22499948740005493,\n",
       " 1.6357483863830566,\n",
       " 0.22924324870109558,\n",
       " 0.15725591778755188,\n",
       " 0.2606295049190521,\n",
       " 0.39676734805107117,\n",
       " 0.2659863233566284,\n",
       " 0.42746368050575256,\n",
       " 0.33950912952423096,\n",
       " 0.15390342473983765,\n",
       " 0.26031494140625,\n",
       " 0.28449127078056335,\n",
       " 0.23269706964492798,\n",
       " 0.20098204910755157,\n",
       " 0.28037816286087036,\n",
       " 0.31801778078079224,\n",
       " 0.2815718948841095,\n",
       " 0.24936695396900177,\n",
       " 12.822582244873047,\n",
       " 0.41328832507133484,\n",
       " 1.6412607431411743,\n",
       " 1.074268102645874,\n",
       " 0.6736440658569336,\n",
       " 0.6357783675193787,\n",
       " 0.672339916229248,\n",
       " 0.7380200028419495,\n",
       " 0.6513388156890869,\n",
       " 0.7234596610069275,\n",
       " 0.6215763688087463,\n",
       " 0.7503527402877808,\n",
       " 0.5694137811660767,\n",
       " 0.8303889632225037,\n",
       " 0.528301477432251,\n",
       " 0.5754174590110779,\n",
       " 1.168457269668579,\n",
       " 0.35895073413848877,\n",
       " 0.31658029556274414,\n",
       " 0.388776034116745,\n",
       " 17.095468521118164,\n",
       " 0.6491209268569946,\n",
       " 0.35676565766334534,\n",
       " 0.4379441440105438,\n",
       " 0.5178003907203674,\n",
       " 0.7535359859466553,\n",
       " 0.43602970242500305,\n",
       " 0.2585882544517517,\n",
       " 0.2871495485305786,\n",
       " 1.4040710926055908,\n",
       " 1.126277208328247,\n",
       " 0.30502089858055115,\n",
       " 0.22465310990810394,\n",
       " 0.2899587154388428,\n",
       " 0.3193984925746918,\n",
       " 0.20577497780323029,\n",
       " 0.30778518319129944,\n",
       " 0.2718331813812256,\n",
       " 0.32155513763427734,\n",
       " 0.1850004494190216,\n",
       " 0.20919926464557648,\n",
       " 0.215566948056221,\n",
       " 0.1885526180267334,\n",
       " 0.39485517144203186,\n",
       " 0.3146904706954956,\n",
       " 0.2977520525455475,\n",
       " 0.25199994444847107,\n",
       " 0.35471582412719727,\n",
       " 0.2123953104019165,\n",
       " 0.30889421701431274,\n",
       " 0.24506044387817383,\n",
       " 0.21239224076271057,\n",
       " 0.240373432636261,\n",
       " 0.40229105949401855,\n",
       " 0.23426881432533264,\n",
       " 0.21055960655212402,\n",
       " 0.17315341532230377,\n",
       " 0.6013924479484558,\n",
       " 0.3500620126724243,\n",
       " 0.22244493663311005,\n",
       " 0.25852498412132263,\n",
       " 0.20397697389125824,\n",
       " 0.19479873776435852,\n",
       " 0.23733395338058472,\n",
       " 3.2995259761810303,\n",
       " 0.2769148647785187,\n",
       " 0.4660129249095917,\n",
       " 0.5055288672447205,\n",
       " 0.5467424988746643,\n",
       " 0.5451006889343262,\n",
       " 0.3931197226047516,\n",
       " 0.31678059697151184,\n",
       " 0.3274855315685272,\n",
       " 0.23851220309734344,\n",
       " 0.2182387411594391,\n",
       " 0.19778597354888916,\n",
       " 0.28079551458358765,\n",
       " 0.5973265171051025,\n",
       " 0.33118173480033875,\n",
       " 0.34690356254577637,\n",
       " 0.2622811496257782,\n",
       " 0.21966418623924255,\n",
       " 0.2187824249267578,\n",
       " 0.23029983043670654,\n",
       " 0.2750723958015442,\n",
       " 0.2789584696292877,\n",
       " 0.23236656188964844,\n",
       " 0.2929827570915222,\n",
       " 0.16787903010845184,\n",
       " 0.2852190434932709,\n",
       " 0.18350644409656525,\n",
       " 0.240986168384552,\n",
       " 0.29246029257774353,\n",
       " 0.24092113971710205,\n",
       " 0.26665714383125305,\n",
       " 0.3547475039958954,\n",
       " 0.11555902659893036,\n",
       " 0.2556495666503906,\n",
       " 0.23208774626255035,\n",
       " 0.6132066249847412,\n",
       " 0.22661615908145905,\n",
       " 0.1483677327632904,\n",
       " 0.23430845141410828,\n",
       " 0.2630324065685272,\n",
       " 0.24110814929008484,\n",
       " 0.22679370641708374,\n",
       " 0.20050682127475739,\n",
       " 0.26369374990463257,\n",
       " 0.19732969999313354,\n",
       " 0.24219511449337006,\n",
       " 0.1914961338043213,\n",
       " 0.213423952460289,\n",
       " 0.2159063220024109,\n",
       " 0.24253378808498383,\n",
       " 0.22607421875,\n",
       " 0.16618184745311737,\n",
       " 0.24726825952529907,\n",
       " 0.23904237151145935,\n",
       " 0.12107756733894348,\n",
       " 0.1542077213525772,\n",
       " 0.18245424330234528,\n",
       " 0.2761998474597931,\n",
       " 0.18363350629806519,\n",
       " 0.9928569793701172,\n",
       " 0.32265734672546387,\n",
       " 0.2730098068714142,\n",
       " 0.21557030081748962,\n",
       " 0.3146889805793762,\n",
       " 0.27567532658576965,\n",
       " 0.2715536057949066,\n",
       " 0.23588785529136658,\n",
       " 0.5763397812843323,\n",
       " 0.2824344038963318,\n",
       " 0.3281072974205017,\n",
       " 0.3188800811767578,\n",
       " 0.24159087240695953,\n",
       " 0.5767377018928528,\n",
       " 0.3468868136405945,\n",
       " 0.29343172907829285,\n",
       " 0.25808024406433105,\n",
       " 0.22153353691101074,\n",
       " 0.16248539090156555,\n",
       " 0.2400275468826294,\n",
       " 0.14234210550785065,\n",
       " 0.23032233119010925,\n",
       " 0.32895463705062866,\n",
       " 0.28953713178634644,\n",
       " 0.18969054520130157,\n",
       " 0.2489069402217865,\n",
       " 0.1575765609741211,\n",
       " 0.17262782156467438,\n",
       " 0.17317944765090942,\n",
       " 0.17825929820537567,\n",
       " 0.17904506623744965,\n",
       " 0.33058109879493713,\n",
       " 0.31205087900161743,\n",
       " 0.5149551630020142,\n",
       " 12.141644477844238,\n",
       " 0.6204736232757568,\n",
       " 0.5762951970100403,\n",
       " 0.6218746900558472,\n",
       " 0.4671276807785034,\n",
       " 0.35089728236198425,\n",
       " 0.37685614824295044,\n",
       " 0.17433947324752808,\n",
       " 0.34834161400794983,\n",
       " 189.08697509765625,\n",
       " 0.4616756737232208,\n",
       " 0.6756308078765869,\n",
       " 0.6363646984100342,\n",
       " 0.6829386353492737,\n",
       " 0.6631452441215515,\n",
       " 0.6341351866722107,\n",
       " 0.6504094004631042,\n",
       " 0.6237984895706177,\n",
       " 0.5457215905189514,\n",
       " 0.7207641005516052,\n",
       " 0.5545309782028198,\n",
       " 0.8868849873542786,\n",
       " 0.3267669081687927,\n",
       " 0.33045271039009094,\n",
       " 0.436489075422287,\n",
       " 0.43436163663864136,\n",
       " 0.40235981345176697,\n",
       " 0.24151122570037842,\n",
       " 0.5036731362342834,\n",
       " 0.3381555378437042,\n",
       " 0.21133482456207275,\n",
       " 0.23266391456127167,\n",
       " 0.21252252161502838,\n",
       " 0.17248056828975677,\n",
       " 0.2759608030319214,\n",
       " 0.6461631655693054,\n",
       " 0.38397958874702454,\n",
       " 0.30740007758140564,\n",
       " 0.25793612003326416,\n",
       " 0.2647428512573242,\n",
       " 0.2404782474040985,\n",
       " 0.29541364312171936,\n",
       " 0.201449915766716,\n",
       " 0.3304997384548187,\n",
       " 0.21626415848731995,\n",
       " 0.2786417007446289,\n",
       " 10.74670124053955,\n",
       " 0.6103944182395935,\n",
       " 0.6575131416320801,\n",
       " 0.8059508204460144,\n",
       " 0.7269952297210693,\n",
       " 0.784866452217102,\n",
       " 0.6240901947021484,\n",
       " 0.6819384694099426,\n",
       " 0.6202911138534546,\n",
       " 0.666863739490509,\n",
       " 0.6825785636901855,\n",
       " 0.7452723979949951,\n",
       " 0.7267882823944092,\n",
       " 0.6597368717193604,\n",
       " 0.6790851950645447,\n",
       " 0.6750668287277222,\n",
       " 0.6491905450820923,\n",
       " 0.6493659019470215,\n",
       " 0.6379732489585876,\n",
       " 0.6367168426513672,\n",
       " 0.7327576875686646,\n",
       " 0.580758810043335,\n",
       " 0.6423199772834778,\n",
       " 0.586929440498352,\n",
       " 0.6214248538017273,\n",
       " 0.6141622066497803,\n",
       " 0.5872897505760193,\n",
       " 0.6276169419288635,\n",
       " 0.6038554310798645,\n",
       " 0.5784918069839478,\n",
       " 0.5731768608093262,\n",
       " 0.4863957464694977,\n",
       " 0.5453730821609497,\n",
       " 0.5073394775390625,\n",
       " 1.089867115020752,\n",
       " 0.42825257778167725,\n",
       " 0.5259675979614258,\n",
       " 0.4665566086769104,\n",
       " 0.5219199061393738,\n",
       " 0.43989795446395874,\n",
       " 0.36719223856925964,\n",
       " 0.6472600698471069,\n",
       " 0.25873830914497375,\n",
       " 0.45305371284484863,\n",
       " 0.41214656829833984,\n",
       " 0.3636561632156372,\n",
       " 0.3734869956970215,\n",
       " 0.175464928150177,\n",
       " 0.2910974621772766,\n",
       " 1.6058379411697388,\n",
       " 0.4192679524421692,\n",
       " 0.36920538544654846,\n",
       " 0.3114236891269684,\n",
       " 0.36112719774246216,\n",
       " 0.4017677307128906,\n",
       " 0.3426513969898224,\n",
       " 0.31096822023391724,\n",
       " 0.28424978256225586,\n",
       " 0.20197294652462006,\n",
       " 0.4343397915363312,\n",
       " 0.38765621185302734,\n",
       " 0.28709718585014343,\n",
       " 0.33250316977500916,\n",
       " 0.24967607855796814,\n",
       " 0.4186016917228699,\n",
       " 14.029609680175781,\n",
       " 0.37726879119873047,\n",
       " 0.5110137462615967,\n",
       " 0.568623423576355,\n",
       " 0.6427392363548279,\n",
       " 0.612286388874054,\n",
       " 0.5958430171012878,\n",
       " 0.5948145985603333,\n",
       " 0.5901737213134766,\n",
       " 0.5972371697425842,\n",
       " 0.5444403886795044,\n",
       " 0.5134645700454712,\n",
       " 0.4993545413017273,\n",
       " 0.4865829646587372,\n",
       " 0.5254348516464233,\n",
       " 0.4784705936908722,\n",
       " 0.42267367243766785,\n",
       " 0.37690240144729614,\n",
       " 0.3559369146823883,\n",
       " 0.3650486469268799,\n",
       " 0.3275677561759949,\n",
       " 0.27089306712150574,\n",
       " 0.2464396059513092,\n",
       " 2.422893524169922,\n",
       " 0.376444548368454,\n",
       " 0.24881240725517273,\n",
       " 0.3149716854095459,\n",
       " 0.19193246960639954,\n",
       " 0.21355411410331726,\n",
       " 0.3793976902961731,\n",
       " 0.4630698561668396,\n",
       " 0.17411279678344727,\n",
       " 0.24019752442836761,\n",
       " 0.3031277358531952,\n",
       " 0.5759884119033813,\n",
       " 0.3064095079898834,\n",
       " 0.47542184591293335,\n",
       " 0.2232477366924286,\n",
       " 0.22861944139003754,\n",
       " 0.24984200298786163,\n",
       " 0.3205561339855194,\n",
       " 0.26690590381622314,\n",
       " 0.5273745656013489,\n",
       " 0.30773091316223145,\n",
       " 0.3012279272079468,\n",
       " 1.0620849132537842,\n",
       " 0.3917197287082672,\n",
       " 0.2992340326309204,\n",
       " 0.3906230330467224,\n",
       " 0.30611124634742737,\n",
       " 0.3700481057167053,\n",
       " 0.32280242443084717,\n",
       " 0.5148671865463257,\n",
       " 0.39231187105178833,\n",
       " 78.16466522216797,\n",
       " 0.4145597219467163,\n",
       " 0.5462563037872314,\n",
       " 0.6358274817466736,\n",
       " 0.6648695468902588,\n",
       " 0.6505857706069946,\n",
       " 0.5907749533653259,\n",
       " 0.5677045583724976,\n",
       " 0.607182502746582,\n",
       " 0.5901315808296204,\n",
       " 0.5892719626426697,\n",
       " 0.5519373416900635,\n",
       " 0.5368477702140808,\n",
       " 0.5996803641319275,\n",
       " 0.38335657119750977,\n",
       " 0.5341522097587585,\n",
       " 0.4377767741680145,\n",
       " 0.3945794403553009,\n",
       " 0.4514862596988678,\n",
       " 0.31973451375961304,\n",
       " 0.2515528202056885,\n",
       " 0.602112889289856,\n",
       " 0.3441467881202698,\n",
       " 0.24591174721717834,\n",
       " 0.2522944211959839,\n",
       " 0.3396137058734894,\n",
       " 0.3937671184539795,\n",
       " 0.24175065755844116,\n",
       " 0.2983933687210083,\n",
       " 0.36880454421043396,\n",
       " 0.2936941087245941,\n",
       " 0.22888264060020447,\n",
       " 0.25053903460502625,\n",
       " 0.3356631398200989,\n",
       " 0.2821269929409027,\n",
       " 0.3946031928062439,\n",
       " 0.336534321308136,\n",
       " 0.2896689772605896,\n",
       " 0.24121162295341492,\n",
       " 0.35395553708076477,\n",
       " 0.36521315574645996,\n",
       " 0.2899133563041687,\n",
       " 0.3069392144680023,\n",
       " 0.3300021290779114,\n",
       " 0.2745112180709839,\n",
       " 0.2870400547981262,\n",
       " 0.29512935876846313,\n",
       " 0.4205757975578308,\n",
       " 0.3006967604160309,\n",
       " 0.2589411437511444,\n",
       " 0.31110602617263794,\n",
       " 0.3116684854030609,\n",
       " 3.2829749584198,\n",
       " 0.3803732395172119,\n",
       " 0.4521101117134094,\n",
       " 0.43892431259155273,\n",
       " 0.4472516179084778,\n",
       " 0.3934905529022217,\n",
       " 0.3681621551513672,\n",
       " 0.8936265707015991,\n",
       " 0.2912563383579254,\n",
       " 0.34787389636039734,\n",
       " 0.28508254885673523,\n",
       " 1.5069561004638672,\n",
       " 0.4655650854110718,\n",
       " 0.2940097451210022,\n",
       " 0.2569896876811981,\n",
       " 0.33347946405410767,\n",
       " 0.3219541609287262,\n",
       " 0.26481685042381287,\n",
       " 0.48277097940444946,\n",
       " 0.29251357913017273,\n",
       " 0.6231687068939209,\n",
       " 0.32360297441482544,\n",
       " 0.7348317503929138,\n",
       " 0.36804431676864624,\n",
       " 0.2778964638710022,\n",
       " 0.31060734391212463,\n",
       " 0.37625110149383545,\n",
       " 0.40355414152145386,\n",
       " 0.3195539712905884,\n",
       " 0.2804471254348755,\n",
       " 0.3398076295852661,\n",
       " 0.3115577697753906,\n",
       " 0.278850793838501,\n",
       " 0.38667812943458557,\n",
       " 0.28552916646003723,\n",
       " 0.2271399199962616,\n",
       " 0.441547155380249,\n",
       " 0.3083609938621521,\n",
       " 0.2920985221862793,\n",
       " 15.999288558959961,\n",
       " 0.3517501950263977,\n",
       " 0.7292928099632263,\n",
       " 0.5611144304275513,\n",
       " 0.5421344637870789,\n",
       " 0.5391226410865784,\n",
       " 0.5216062664985657,\n",
       " 0.47902655601501465,\n",
       " 0.4870723485946655,\n",
       " 0.5999041795730591,\n",
       " 0.4105871319770813,\n",
       " 0.42821264266967773,\n",
       " 0.28271108865737915,\n",
       " 2.088716506958008,\n",
       " 0.39305537939071655,\n",
       " 0.4057331681251526,\n",
       " 0.38526976108551025,\n",
       " 0.4246903359889984,\n",
       " 0.8367953896522522,\n",
       " 0.5288655757904053,\n",
       " 0.35381269454956055,\n",
       " 0.2695165276527405,\n",
       " 0.320609986782074,\n",
       " 0.2536090016365051,\n",
       " 0.2791891396045685,\n",
       " 0.8605861067771912,\n",
       " 0.25567641854286194,\n",
       " 0.32188400626182556,\n",
       " 0.2212502509355545,\n",
       " 0.2710511088371277,\n",
       " 0.269951194524765,\n",
       " 0.29770544171333313,\n",
       " 0.2632545828819275,\n",
       " 0.268780380487442,\n",
       " 0.32078418135643005,\n",
       " 0.25372207164764404,\n",
       " 0.2973927855491638,\n",
       " 0.2650456726551056,\n",
       " 0.23454099893569946,\n",
       " 9.12128734588623,\n",
       " 0.4686300456523895,\n",
       " 0.5610339641571045,\n",
       " 0.5781734585762024,\n",
       " 0.5629709959030151,\n",
       " 0.5683709979057312,\n",
       " 0.5691046714782715,\n",
       " 31.205524444580078,\n",
       " 0.5588585138320923,\n",
       " 0.4814092516899109,\n",
       " 0.474937379360199,\n",
       " 0.6271279454231262,\n",
       " 0.4518982470035553,\n",
       " 0.40051013231277466,\n",
       " 0.36398762464523315,\n",
       " 0.27853918075561523,\n",
       " 0.41924265027046204,\n",
       " 0.38823577761650085,\n",
       " 0.2279396951198578,\n",
       " 0.32011574506759644,\n",
       " 0.4025634527206421,\n",
       " 0.23028264939785004,\n",
       " 0.3036131262779236,\n",
       " 0.1616308093070984,\n",
       " 0.5735825300216675,\n",
       " 0.5964058637619019,\n",
       " 0.18477439880371094,\n",
       " 0.13501818478107452,\n",
       " 0.3134993612766266,\n",
       " 0.25908273458480835,\n",
       " 0.3996776342391968,\n",
       " 0.2204664647579193,\n",
       " 0.32929322123527527,\n",
       " 0.3255237638950348,\n",
       " 0.3444623649120331,\n",
       " 0.30707892775535583,\n",
       " 0.29275619983673096,\n",
       " 0.2855638265609741,\n",
       " 0.22979119420051575,\n",
       " 0.24589920043945312,\n",
       " 0.19091778993606567,\n",
       " 0.25648751854896545,\n",
       " 0.21840813755989075,\n",
       " 0.21366910636425018,\n",
       " 0.2745736837387085,\n",
       " 0.18453477323055267,\n",
       " 0.194122314453125,\n",
       " 0.20630992949008942,\n",
       " 0.2716338038444519,\n",
       " 0.3199295997619629,\n",
       " 20.175668716430664,\n",
       " 0.24270135164260864,\n",
       " 0.15614500641822815,\n",
       " 0.2137063443660736,\n",
       " 0.2735552489757538,\n",
       " 0.1662912517786026,\n",
       " 0.1897076666355133,\n",
       " 0.31316640973091125,\n",
       " 0.26719263195991516,\n",
       " 0.5128179788589478,\n",
       " 0.2707548141479492,\n",
       " 0.21733537316322327,\n",
       " 0.26640933752059937,\n",
       " 0.24771256744861603,\n",
       " 0.26182350516319275,\n",
       " 0.2664146423339844,\n",
       " 6.705514430999756,\n",
       " 1.8995863199234009,\n",
       " 0.39440131187438965,\n",
       " 0.41408771276474,\n",
       " 0.48793089389801025,\n",
       " 0.5162563920021057,\n",
       " 0.509075403213501,\n",
       " 0.5021942853927612,\n",
       " 0.5091372132301331,\n",
       " 0.4887115955352783,\n",
       " 0.4890690743923187,\n",
       " 0.7889677286148071,\n",
       " 0.4374998211860657,\n",
       " 0.41556572914123535,\n",
       " 0.40532630681991577,\n",
       " 0.48065346479415894,\n",
       " 0.4165339171886444,\n",
       " 0.37229880690574646,\n",
       " 0.3085886836051941,\n",
       " 0.35703766345977783,\n",
       " 0.37617170810699463,\n",
       " 0.27359509468078613,\n",
       " 0.32453063130378723,\n",
       " 0.2998847961425781,\n",
       " 0.32472333312034607,\n",
       " 0.3378622233867645,\n",
       " 0.29021742939949036,\n",
       " 0.2943354845046997,\n",
       " 0.3572850823402405,\n",
       " 0.19615387916564941,\n",
       " 0.2057138979434967,\n",
       " 0.22595413029193878,\n",
       " 0.21980170905590057,\n",
       " 0.20249713957309723,\n",
       " 0.14758101105690002,\n",
       " 0.27292078733444214,\n",
       " 0.24372580647468567,\n",
       " 0.32337304949760437,\n",
       " 57246.1484375,\n",
       " 0.3799228072166443,\n",
       " 0.5900554060935974,\n",
       " 0.621206521987915,\n",
       " 0.6260319948196411,\n",
       " 0.5794922709465027,\n",
       " 0.6182736158370972,\n",
       " 0.5781101584434509,\n",
       " 0.557053804397583,\n",
       " 0.5325722098350525,\n",
       " 0.607020378112793,\n",
       " 0.6606028079986572,\n",
       " 0.6238000988960266,\n",
       " 0.5375866293907166,\n",
       " 0.5405845046043396,\n",
       " 0.5343216061592102,\n",
       " 0.49890637397766113,\n",
       " 0.5131441354751587,\n",
       " 0.4358536899089813,\n",
       " 0.5478301644325256,\n",
       " 0.5261830687522888,\n",
       " 0.457305908203125,\n",
       " 0.43001240491867065,\n",
       " 0.33781343698501587,\n",
       " 0.32779237627983093,\n",
       " 0.4644283950328827,\n",
       " 0.3368874788284302,\n",
       " 0.3767382800579071,\n",
       " 0.46061956882476807,\n",
       " 0.4648009240627289,\n",
       " 0.4591030478477478,\n",
       " 0.32595619559288025,\n",
       " 0.46103835105895996,\n",
       " 0.3545225262641907,\n",
       " 0.35115376114845276,\n",
       " 0.4156467914581299,\n",
       " 0.3855327367782593,\n",
       " 0.5101813077926636,\n",
       " 0.3629278540611267,\n",
       " 0.3608750104904175,\n",
       " 0.3476904630661011,\n",
       " 0.40882712602615356,\n",
       " 0.4182960093021393,\n",
       " 0.345977783203125,\n",
       " 0.39650318026542664,\n",
       " 0.32995763421058655,\n",
       " 0.2920210659503937,\n",
       " 0.38945019245147705,\n",
       " 0.37629133462905884,\n",
       " 112.43114471435547,\n",
       " 0.35875070095062256,\n",
       " 0.40442395210266113,\n",
       " 0.4303111433982849,\n",
       " 0.3300684094429016,\n",
       " 0.35671406984329224,\n",
       " 0.6440264582633972,\n",
       " 0.4628315269947052,\n",
       " 0.3146804869174957,\n",
       " 0.47190430760383606,\n",
       " 0.3710201382637024,\n",
       " 0.44572311639785767,\n",
       " 0.6502522230148315,\n",
       " 0.30158519744873047,\n",
       " 0.38489440083503723,\n",
       " 0.3878510594367981,\n",
       " 0.25678321719169617,\n",
       " 0.48426124453544617,\n",
       " 0.23252058029174805,\n",
       " 0.3295780122280121,\n",
       " 0.23887644708156586,\n",
       " 0.39870506525039673,\n",
       " 0.3484027087688446,\n",
       " 0.6622536778450012,\n",
       " 0.3534802794456482,\n",
       " 8.516083717346191,\n",
       " 0.39296990633010864,\n",
       " 0.4891767203807831,\n",
       " 0.5442831516265869,\n",
       " 0.5778760313987732,\n",
       " 0.5438277125358582,\n",
       " 0.6646624803543091,\n",
       " 0.5477019548416138,\n",
       " 1.878570795059204,\n",
       " 0.5658979415893555,\n",
       " 0.7623525857925415,\n",
       " 0.526259183883667,\n",
       " 0.5563769340515137,\n",
       " 0.5368715524673462,\n",
       " 0.5421956777572632,\n",
       " 0.6546148657798767,\n",
       " 0.5478371977806091,\n",
       " 0.536965548992157,\n",
       " 0.5401076078414917,\n",
       " 0.5397987961769104,\n",
       " 0.5466277599334717,\n",
       " 0.547059178352356,\n",
       " 0.5439486503601074,\n",
       " 0.5735413432121277,\n",
       " 0.5359408855438232,\n",
       " 0.5522913932800293,\n",
       " 0.5178009867668152,\n",
       " 0.510756254196167,\n",
       " 0.536357581615448,\n",
       " 0.5385845303535461,\n",
       " 0.5445995330810547,\n",
       " 0.532231330871582,\n",
       " 0.5393000245094299,\n",
       " 0.5284639000892639,\n",
       " 0.6036928296089172,\n",
       " 0.5325203537940979,\n",
       " 0.5389690399169922,\n",
       " 0.5216912627220154,\n",
       " 0.5374493598937988,\n",
       " 0.5519911050796509,\n",
       " 0.5376678705215454,\n",
       " 0.5614664554595947,\n",
       " 0.5231080651283264,\n",
       " 0.5251772999763489,\n",
       " 0.5285677909851074,\n",
       " 0.5196506381034851,\n",
       " 0.5203012824058533,\n",
       " 0.5373827815055847,\n",
       " 0.47901687026023865,\n",
       " 0.5114691257476807,\n",
       " 0.5015941262245178,\n",
       " 0.4913000464439392,\n",
       " 0.5114316940307617,\n",
       " 0.43224242329597473,\n",
       " 0.444355309009552,\n",
       " 0.38480186462402344,\n",
       " 0.42334043979644775,\n",
       " 0.2956094443798065,\n",
       " 0.3801095187664032,\n",
       " 0.2934606671333313,\n",
       " 0.35557353496551514,\n",
       " 0.29459697008132935,\n",
       " 0.31148195266723633,\n",
       " 0.35193127393722534,\n",
       " 0.26284486055374146,\n",
       " 0.3396272659301758,\n",
       " 0.24212028086185455,\n",
       " 0.3386358916759491,\n",
       " 0.3613632917404175,\n",
       " 0.34313809871673584,\n",
       " 0.31191474199295044,\n",
       " 0.2751401960849762,\n",
       " 0.45984968543052673,\n",
       " 0.27849581837654114,\n",
       " 0.23461975157260895,\n",
       " 0.20666442811489105,\n",
       " 2.818960189819336,\n",
       " 0.35082244873046875,\n",
       " 0.3245426118373871,\n",
       " 0.3677135109901428,\n",
       " 0.3706737756729126,\n",
       " 0.38612157106399536,\n",
       " 0.4330386221408844,\n",
       " 0.3596310019493103,\n",
       " 0.36753708124160767,\n",
       " 0.29647189378738403,\n",
       " 1.111621379852295,\n",
       " 0.3268834352493286,\n",
       " 0.16109801828861237,\n",
       " 0.2737170457839966,\n",
       " 0.26222148537635803,\n",
       " 0.49192994832992554,\n",
       " 0.16726715862751007,\n",
       " 0.47886884212493896,\n",
       " 0.36397820711135864,\n",
       " 0.2554449439048767,\n",
       " 0.1944185346364975,\n",
       " 0.2933865189552307,\n",
       " 0.2251761555671692,\n",
       " 0.23468385636806488,\n",
       " 0.2311144471168518,\n",
       " 0.22019053995609283,\n",
       " 0.6379591226577759,\n",
       " 0.22829002141952515,\n",
       " 0.23834027349948883,\n",
       " 0.25448501110076904,\n",
       " 0.24760018289089203,\n",
       " 0.49158117175102234,\n",
       " 0.326494425535202,\n",
       " 0.22917455434799194,\n",
       " 0.3230816125869751,\n",
       " 0.46150219440460205,\n",
       " 0.1921149045228958,\n",
       " 0.2556929290294647,\n",
       " 0.21801088750362396,\n",
       " 0.2070712149143219,\n",
       " 0.1931942105293274,\n",
       " 0.23982903361320496,\n",
       " 0.1857755184173584,\n",
       " 0.17559798061847687,\n",
       " 0.3106021285057068,\n",
       " 0.1887412816286087,\n",
       " 0.30624786019325256,\n",
       " 0.20849967002868652,\n",
       " 0.32016533613204956,\n",
       " 0.1350025236606598,\n",
       " 0.2636617124080658,\n",
       " 0.549429178237915,\n",
       " 0.3604070544242859,\n",
       " 0.160979762673378,\n",
       " 0.22376571595668793,\n",
       " 0.21047759056091309,\n",
       " 0.21143396198749542,\n",
       " 0.22358658909797668,\n",
       " 0.18990382552146912,\n",
       " 0.32709619402885437,\n",
       " 0.24964363873004913,\n",
       " 0.18252155184745789,\n",
       " 0.2633073329925537,\n",
       " 0.2247086763381958,\n",
       " 0.3038245141506195,\n",
       " 0.2187776118516922,\n",
       " 0.19360627233982086,\n",
       " 0.18778204917907715,\n",
       " 0.21164658665657043,\n",
       " 0.21144038438796997,\n",
       " 0.27517178654670715,\n",
       " 0.23280000686645508,\n",
       " 0.1652865707874298,\n",
       " 0.205231174826622,\n",
       " 0.14375589787960052,\n",
       " 0.24978366494178772,\n",
       " 0.5456735491752625,\n",
       " 0.17406398057937622,\n",
       " 0.25533753633499146,\n",
       " 0.17900776863098145,\n",
       " 0.18712221086025238,\n",
       " 0.20388156175613403,\n",
       " 0.21190156042575836,\n",
       " 0.21436193585395813,\n",
       " 0.1755686104297638,\n",
       " 0.250627726316452,\n",
       " 0.25995033979415894,\n",
       " 0.26535141468048096,\n",
       " 0.2667570412158966,\n",
       " 0.30314284563064575,\n",
       " 0.29069480299949646,\n",
       " 0.17992766201496124,\n",
       " 0.21361112594604492,\n",
       " 0.17132247984409332,\n",
       " 0.2887992262840271,\n",
       " 0.1960408240556717,\n",
       " 0.20233900845050812,\n",
       " 0.20132717490196228,\n",
       " 0.2836238741874695,\n",
       " 0.23006604611873627,\n",
       " 0.22748315334320068,\n",
       " 0.21220751106739044,\n",
       " 0.1878485232591629,\n",
       " 0.24910230934619904,\n",
       " 0.24870973825454712,\n",
       " 0.20609813928604126,\n",
       " 0.2400008589029312,\n",
       " 0.5278446078300476,\n",
       " 0.37508919835090637,\n",
       " 0.21425466239452362,\n",
       " 0.27007773518562317,\n",
       " 0.25374600291252136,\n",
       " 0.32744133472442627,\n",
       " 0.22600263357162476,\n",
       " 1.6353319883346558,\n",
       " 0.27019524574279785,\n",
       " 0.33252325654029846,\n",
       " 0.4142540693283081,\n",
       " 0.39792966842651367,\n",
       " 0.4108458459377289,\n",
       " 0.4638890326023102,\n",
       " 0.45484495162963867,\n",
       " 0.47468551993370056,\n",
       " 0.42900556325912476,\n",
       " 0.3931267559528351,\n",
       " 0.4291042983531952,\n",
       " 0.34025222063064575,\n",
       " 0.338825523853302,\n",
       " 0.2773832678794861,\n",
       " 0.27745088934898376,\n",
       " 0.26045578718185425,\n",
       " 0.2892979383468628,\n",
       " 0.27261871099472046,\n",
       " 0.3010972738265991,\n",
       " 0.2528037130832672,\n",
       " 0.5164464116096497,\n",
       " 0.24646398425102234,\n",
       " 0.17594152688980103,\n",
       " 0.20301105082035065,\n",
       " 0.22419902682304382,\n",
       " 0.15327557921409607,\n",
       " 0.19184377789497375,\n",
       " 0.28603580594062805,\n",
       " 0.4193858802318573,\n",
       " 0.1884458214044571,\n",
       " 0.14859679341316223,\n",
       " 0.1957818567752838,\n",
       " 0.2887774109840393,\n",
       " 0.22244690358638763,\n",
       " 0.3842795193195343,\n",
       " 0.22746427357196808,\n",
       " 0.19694292545318604,\n",
       " 0.22914892435073853,\n",
       " 0.18442700803279877,\n",
       " 0.2630018889904022,\n",
       " 0.2538760304450989,\n",
       " 0.2557383179664612,\n",
       " 0.8757878541946411,\n",
       " 0.21950098872184753,\n",
       " 0.256205290555954,\n",
       " 0.22920309007167816,\n",
       " 0.17843782901763916,\n",
       " 0.26326850056648254,\n",
       " 0.3819126486778259,\n",
       " 0.26116853952407837,\n",
       " 0.2303863912820816,\n",
       " 0.27620747685432434,\n",
       " 0.28110048174858093,\n",
       " 0.27141454815864563,\n",
       " 0.23058654367923737,\n",
       " 0.2291586846113205,\n",
       " 0.23294313251972198,\n",
       " 0.21227365732192993,\n",
       " 0.22398564219474792,\n",
       " 0.20899561047554016,\n",
       " 0.18320921063423157,\n",
       " 0.20063872635364532,\n",
       " 0.3024323284626007,\n",
       " 0.27014100551605225,\n",
       " 0.27689433097839355,\n",
       " 0.2330407202243805,\n",
       " 0.40732795000076294,\n",
       " 0.18302609026432037,\n",
       " 0.18659178912639618,\n",
       " 0.2498072236776352,\n",
       " 0.22021181881427765,\n",
       " 0.23139207065105438,\n",
       " 0.24373044073581696,\n",
       " 0.3180164694786072,\n",
       " 0.2460315227508545,\n",
       " 0.2806383967399597,\n",
       " 0.2766960561275482,\n",
       " 0.2670285999774933,\n",
       " 0.2948794364929199,\n",
       " 0.2685478627681732,\n",
       " 0.22771908342838287,\n",
       " 0.2384885847568512,\n",
       " 0.34417596459388733,\n",
       " 0.2405257225036621,\n",
       " 0.27299079298973083,\n",
       " ...]"
      ]
     },
     "execution_count": 88,
     "metadata": {},
     "output_type": "execute_result"
    }
   ],
   "source": [
    "train_epoch(NN, train_loader_nn, optimizer)"
   ]
  },
  {
   "cell_type": "markdown",
   "id": "02ece864",
   "metadata": {},
   "source": [
    "## Validating 1 epoch"
   ]
  },
  {
   "cell_type": "code",
   "execution_count": 89,
   "id": "3542ea22",
   "metadata": {},
   "outputs": [],
   "source": [
    "def validate_epoch(model, loader):\n",
    "    \n",
    "    model.eval()\n",
    "    \n",
    "    # a function to flatten a list of lists into a single list\n",
    "    def flatten_extend(matrix):\n",
    "        flat_list = []\n",
    "        for row in matrix:\n",
    "            flat_list.extend(row)\n",
    "        return flat_list\n",
    "\n",
    "    test_loss = 0\n",
    "    correct = 0\n",
    "    prediction_list = []\n",
    "    \n",
    "    with torch.no_grad():      \n",
    "\n",
    "        for features, target in loader:\n",
    "\n",
    "            features = features.to(device)\n",
    "            target = target.to(device).unsqueeze(dim=1)\n",
    "            \n",
    "            prediction = model(features)\n",
    "             \n",
    "            prediction_list.append(np.array(torch.round(torch.sigmoid(prediction))))\n",
    "            \n",
    "            \n",
    "            test_loss += criterion(prediction, target).item()\n",
    "            \n",
    "                   \n",
    "    print(f'Test Average Loss: {test_loss / len(loader)}')\n",
    "    \n",
    "    return test_loss, list(map(int, flatten_extend(prediction_list))) # making the prediction list values integers"
   ]
  },
  {
   "cell_type": "code",
   "execution_count": 90,
   "id": "5a2b54fa",
   "metadata": {},
   "outputs": [
    {
     "name": "stdout",
     "output_type": "stream",
     "text": [
      "Test Average Loss: 0.1601537225015845\n"
     ]
    }
   ],
   "source": [
    "v = validate_epoch(NN, val_loader_nn)"
   ]
  },
  {
   "cell_type": "code",
   "execution_count": 91,
   "id": "692bd5fa",
   "metadata": {},
   "outputs": [],
   "source": [
    "nn_pred = v[1]"
   ]
  },
  {
   "cell_type": "code",
   "execution_count": 92,
   "id": "81f41b0f",
   "metadata": {},
   "outputs": [
    {
     "name": "stdout",
     "output_type": "stream",
     "text": [
      "Accuracy: 0.9650234139032791\n",
      "F1: 0.8430144831109581\n",
      "Precision: 0.803446870187517\n",
      "Recall: 0.886681162680263\n"
     ]
    }
   ],
   "source": [
    "print('Accuracy:', accuracy_score(nn_pred, valid_y))\n",
    "print('F1:', f1_score(nn_pred, valid_y))\n",
    "print('Precision:', precision_score(nn_pred, valid_y))\n",
    "print('Recall:', recall_score(nn_pred, valid_y))"
   ]
  },
  {
   "cell_type": "markdown",
   "id": "ddb7ff6b",
   "metadata": {},
   "source": [
    "## Testing 1 epoch"
   ]
  },
  {
   "cell_type": "code",
   "execution_count": 93,
   "id": "c3d4f777",
   "metadata": {},
   "outputs": [],
   "source": [
    "def test_epoch(model, loader):\n",
    "    \n",
    "    model.eval()\n",
    "    \n",
    "    # a function to flatten a list of lists into a single list\n",
    "    def flatten_extend(matrix):\n",
    "        flat_list = []\n",
    "        for row in matrix:\n",
    "            flat_list.extend(row)\n",
    "        return flat_list\n",
    "\n",
    "    test_loss = 0\n",
    "    correct = 0\n",
    "    prediction_list = []\n",
    "    \n",
    "    with torch.no_grad():      \n",
    "\n",
    "        for features in loader:\n",
    "\n",
    "            features = features.to(device)\n",
    "            \n",
    "            \n",
    "            prediction = model(features)\n",
    "             \n",
    "            prediction_list.append(np.array(torch.round(torch.sigmoid(prediction))))         \n",
    "        \n",
    "    \n",
    "    return list(map(int, flatten_extend(prediction_list))) # making the prediction list values integers"
   ]
  },
  {
   "cell_type": "markdown",
   "id": "48a6d592",
   "metadata": {},
   "source": [
    "## Full training \n",
    "(The F1 score did not change after a full training with 11 epochs, so we're not executing this code again because of the long wait)"
   ]
  },
  {
   "cell_type": "markdown",
   "id": "f0dcdb2d",
   "metadata": {},
   "source": [
    "'''\n",
    "train_losses = []\n",
    "valid_losses = []\n",
    "valid_preds = []\n",
    "\n",
    "for epoch in range(epochs):\n",
    "    \n",
    "    print(f'Epoch {epoch+1}')\n",
    "    train_losses += train_epoch(NN, train_loader_nn, optimizer)\n",
    "    valid_losses.append(validate_epoch(NN, val_loader_nn))\n",
    "    valid_preds.append(validate_epoch(NN, val_loader_nn)[1])\n",
    "    scheduler.step()  \n",
    "    \n",
    "'''"
   ]
  },
  {
   "cell_type": "markdown",
   "id": "2ad74209",
   "metadata": {},
   "source": [
    "## Saving model"
   ]
  },
  {
   "cell_type": "code",
   "execution_count": 94,
   "id": "2ce0447a",
   "metadata": {},
   "outputs": [],
   "source": [
    "torch.save(NN, 'NN_bin_class.pt')\n",
    "torch.save(NN.state_dict(), 'NN_bin_class_weights.pt')"
   ]
  },
  {
   "cell_type": "markdown",
   "id": "b3c186a5",
   "metadata": {},
   "source": [
    "# Gaussian Naive Bayes (Base model 4)"
   ]
  },
  {
   "cell_type": "code",
   "execution_count": 96,
   "id": "788d0fa2",
   "metadata": {},
   "outputs": [
    {
     "name": "stdout",
     "output_type": "stream",
     "text": [
      "0.6643303689354584\n"
     ]
    }
   ],
   "source": [
    "gnb = GaussianNB()\n",
    "gnb.fit(train_x_filled, train_y)\n",
    "gnb_pred = gnb.predict(valid_x_filled)\n",
    "gnb_error = f1_score(gnb_pred, valid_y)\n",
    "print(gnb_error)"
   ]
  },
  {
   "cell_type": "markdown",
   "id": "7e40db33",
   "metadata": {},
   "source": [
    "# Bernoulli Naive Bayes (Meta-Model)"
   ]
  },
  {
   "cell_type": "markdown",
   "id": "af8692fc",
   "metadata": {},
   "source": [
    "## Training the Meta-Model"
   ]
  },
  {
   "cell_type": "code",
   "execution_count": 97,
   "id": "64db1cd6",
   "metadata": {},
   "outputs": [
    {
     "data": {
      "text/html": [
       "<style>#sk-container-id-1 {color: black;}#sk-container-id-1 pre{padding: 0;}#sk-container-id-1 div.sk-toggleable {background-color: white;}#sk-container-id-1 label.sk-toggleable__label {cursor: pointer;display: block;width: 100%;margin-bottom: 0;padding: 0.3em;box-sizing: border-box;text-align: center;}#sk-container-id-1 label.sk-toggleable__label-arrow:before {content: \"▸\";float: left;margin-right: 0.25em;color: #696969;}#sk-container-id-1 label.sk-toggleable__label-arrow:hover:before {color: black;}#sk-container-id-1 div.sk-estimator:hover label.sk-toggleable__label-arrow:before {color: black;}#sk-container-id-1 div.sk-toggleable__content {max-height: 0;max-width: 0;overflow: hidden;text-align: left;background-color: #f0f8ff;}#sk-container-id-1 div.sk-toggleable__content pre {margin: 0.2em;color: black;border-radius: 0.25em;background-color: #f0f8ff;}#sk-container-id-1 input.sk-toggleable__control:checked~div.sk-toggleable__content {max-height: 200px;max-width: 100%;overflow: auto;}#sk-container-id-1 input.sk-toggleable__control:checked~label.sk-toggleable__label-arrow:before {content: \"▾\";}#sk-container-id-1 div.sk-estimator input.sk-toggleable__control:checked~label.sk-toggleable__label {background-color: #d4ebff;}#sk-container-id-1 div.sk-label input.sk-toggleable__control:checked~label.sk-toggleable__label {background-color: #d4ebff;}#sk-container-id-1 input.sk-hidden--visually {border: 0;clip: rect(1px 1px 1px 1px);clip: rect(1px, 1px, 1px, 1px);height: 1px;margin: -1px;overflow: hidden;padding: 0;position: absolute;width: 1px;}#sk-container-id-1 div.sk-estimator {font-family: monospace;background-color: #f0f8ff;border: 1px dotted black;border-radius: 0.25em;box-sizing: border-box;margin-bottom: 0.5em;}#sk-container-id-1 div.sk-estimator:hover {background-color: #d4ebff;}#sk-container-id-1 div.sk-parallel-item::after {content: \"\";width: 100%;border-bottom: 1px solid gray;flex-grow: 1;}#sk-container-id-1 div.sk-label:hover label.sk-toggleable__label {background-color: #d4ebff;}#sk-container-id-1 div.sk-serial::before {content: \"\";position: absolute;border-left: 1px solid gray;box-sizing: border-box;top: 0;bottom: 0;left: 50%;z-index: 0;}#sk-container-id-1 div.sk-serial {display: flex;flex-direction: column;align-items: center;background-color: white;padding-right: 0.2em;padding-left: 0.2em;position: relative;}#sk-container-id-1 div.sk-item {position: relative;z-index: 1;}#sk-container-id-1 div.sk-parallel {display: flex;align-items: stretch;justify-content: center;background-color: white;position: relative;}#sk-container-id-1 div.sk-item::before, #sk-container-id-1 div.sk-parallel-item::before {content: \"\";position: absolute;border-left: 1px solid gray;box-sizing: border-box;top: 0;bottom: 0;left: 50%;z-index: -1;}#sk-container-id-1 div.sk-parallel-item {display: flex;flex-direction: column;z-index: 1;position: relative;background-color: white;}#sk-container-id-1 div.sk-parallel-item:first-child::after {align-self: flex-end;width: 50%;}#sk-container-id-1 div.sk-parallel-item:last-child::after {align-self: flex-start;width: 50%;}#sk-container-id-1 div.sk-parallel-item:only-child::after {width: 0;}#sk-container-id-1 div.sk-dashed-wrapped {border: 1px dashed gray;margin: 0 0.4em 0.5em 0.4em;box-sizing: border-box;padding-bottom: 0.4em;background-color: white;}#sk-container-id-1 div.sk-label label {font-family: monospace;font-weight: bold;display: inline-block;line-height: 1.2em;}#sk-container-id-1 div.sk-label-container {text-align: center;}#sk-container-id-1 div.sk-container {/* jupyter's `normalize.less` sets `[hidden] { display: none; }` but bootstrap.min.css set `[hidden] { display: none !important; }` so we also need the `!important` here to be able to override the default hidden behavior on the sphinx rendered scikit-learn.org. See: https://github.com/scikit-learn/scikit-learn/issues/21755 */display: inline-block !important;position: relative;}#sk-container-id-1 div.sk-text-repr-fallback {display: none;}</style><div id=\"sk-container-id-1\" class=\"sk-top-container\"><div class=\"sk-text-repr-fallback\"><pre>BernoulliNB()</pre><b>In a Jupyter environment, please rerun this cell to show the HTML representation or trust the notebook. <br />On GitHub, the HTML representation is unable to render, please try loading this page with nbviewer.org.</b></div><div class=\"sk-container\" hidden><div class=\"sk-item\"><div class=\"sk-estimator sk-toggleable\"><input class=\"sk-toggleable__control sk-hidden--visually\" id=\"sk-estimator-id-1\" type=\"checkbox\" checked><label for=\"sk-estimator-id-1\" class=\"sk-toggleable__label sk-toggleable__label-arrow\">BernoulliNB</label><div class=\"sk-toggleable__content\"><pre>BernoulliNB()</pre></div></div></div></div></div>"
      ],
      "text/plain": [
       "BernoulliNB()"
      ]
     },
     "execution_count": 97,
     "metadata": {},
     "output_type": "execute_result"
    }
   ],
   "source": [
    "# Combining the predictions of the base models on the validation set into a single feature matrix\n",
    "nb_x = np.column_stack((lgbm_pred, cat_pred, gnb_pred, nn_pred))\n",
    "\n",
    "# Training the meta-model on the combined feature matrix and the target values\n",
    "nb = BernoulliNB()\n",
    "nb.fit(nb_x, valid_y)"
   ]
  },
  {
   "cell_type": "markdown",
   "id": "433a4b57",
   "metadata": {},
   "source": [
    "## Base models predictions on the Testing Dataset"
   ]
  },
  {
   "cell_type": "code",
   "execution_count": 98,
   "id": "498a14ef",
   "metadata": {},
   "outputs": [
    {
     "name": "stdout",
     "output_type": "stream",
     "text": [
      "CPU times: total: 45.2 s\n",
      "Wall time: 14 s\n"
     ]
    }
   ],
   "source": [
    "%%time\n",
    "\n",
    "lgbm_pred_test = lgbm.predict(test_dataset_pred)"
   ]
  },
  {
   "cell_type": "code",
   "execution_count": 99,
   "id": "a902fe95",
   "metadata": {},
   "outputs": [
    {
     "name": "stdout",
     "output_type": "stream",
     "text": [
      "CPU times: total: 375 ms\n",
      "Wall time: 438 ms\n"
     ]
    }
   ],
   "source": [
    "%%time\n",
    "\n",
    "gnb_pred_test = gnb.predict(test_dataset_pred)"
   ]
  },
  {
   "cell_type": "code",
   "execution_count": 100,
   "id": "a2930e5d",
   "metadata": {},
   "outputs": [
    {
     "name": "stdout",
     "output_type": "stream",
     "text": [
      "CPU times: total: 1.09 s\n",
      "Wall time: 805 ms\n"
     ]
    }
   ],
   "source": [
    "%%time\n",
    "\n",
    "cat_pred_test = cat.predict(test_dataset_pred)"
   ]
  },
  {
   "cell_type": "code",
   "execution_count": 101,
   "id": "3e561207",
   "metadata": {},
   "outputs": [
    {
     "name": "stdout",
     "output_type": "stream",
     "text": [
      "CPU times: total: 7min 33s\n",
      "Wall time: 2min 12s\n"
     ]
    }
   ],
   "source": [
    "%%time\n",
    "\n",
    "nn_pred_test = test_epoch(NN, test_loader_nn)"
   ]
  },
  {
   "cell_type": "code",
   "execution_count": 102,
   "id": "edb3b769",
   "metadata": {},
   "outputs": [],
   "source": [
    "cat_pred_pd = pd.concat([test_dataset['id'], pd.Series(lgbm_pred_test)] , axis = 1)\n",
    "cat_pred_pd = cat_pred_pd.set_index('id')\n",
    "cat_pred_pd.to_csv('results_03.csv')"
   ]
  },
  {
   "cell_type": "markdown",
   "id": "7fa26e26",
   "metadata": {},
   "source": [
    "## The final prediction of the Meta-Model taking base models predictions on the Testing Dataset as input"
   ]
  },
  {
   "cell_type": "code",
   "execution_count": 103,
   "id": "387071d4",
   "metadata": {},
   "outputs": [],
   "source": [
    "# Combining the predictions of the base models into a single feature matrix\n",
    "nb_t = np.column_stack((lgbm_pred_test, cat_pred_test, gnb_pred_test, nn_pred_test))\n",
    "\n",
    "# Training the meta-model on the combined feature matrix and the target values\n",
    "nb_pred_test = nb.predict(nb_t)"
   ]
  },
  {
   "cell_type": "code",
   "execution_count": 104,
   "id": "238a61e0",
   "metadata": {},
   "outputs": [],
   "source": [
    "nb_pred_pd = pd.concat([test_dataset['id'], pd.Series(nb_pred_test)] , axis = 1)"
   ]
  },
  {
   "cell_type": "code",
   "execution_count": 105,
   "id": "e5f10b8e",
   "metadata": {},
   "outputs": [],
   "source": [
    "nb_pred_pd = nb_pred_pd.set_index('id')"
   ]
  },
  {
   "cell_type": "code",
   "execution_count": 106,
   "id": "442f6157",
   "metadata": {},
   "outputs": [],
   "source": [
    "nb_pred_pd.to_csv('results_01.csv') # this gives an F1 score of only 0.78706, which is expectable since the NN and the gnb models are weak"
   ]
  },
  {
   "cell_type": "markdown",
   "id": "5640a4c0",
   "metadata": {},
   "source": [
    "# Conclusion"
   ]
  },
  {
   "cell_type": "markdown",
   "id": "e79c7f92",
   "metadata": {},
   "source": [
    "During the project the following was carried out:\n",
    "- The data was studied, cleaned and transformed \n",
    "- The image & text embeddings were represented as the distance among them\n",
    "- 20 features were created from the dimension reduction of the embeddings using PCA \n",
    "- Additional features were also created from the price difference between the offer and the goods.\n",
    "- Several ML models were developed and their predictions were stacked into a Bernoulli Naive Bayes meta-model to extract better probabilities. The final Meta-Model's F1 score is just slightly better than the CatBoost model alone, which takes a lot less time to deploy.\n",
    "- The CatBoost model alone is the most suitable model, due to the speed and scoring.\n",
    "\n"
   ]
  }
 ],
 "metadata": {
  "kernelspec": {
   "display_name": "Python 3 (ipykernel)",
   "language": "python",
   "name": "python3"
  },
  "language_info": {
   "codemirror_mode": {
    "name": "ipython",
    "version": 3
   },
   "file_extension": ".py",
   "mimetype": "text/x-python",
   "name": "python",
   "nbconvert_exporter": "python",
   "pygments_lexer": "ipython3",
   "version": "3.11.5"
  }
 },
 "nbformat": 4,
 "nbformat_minor": 5
}
